{
 "cells": [
  {
   "cell_type": "code",
   "execution_count": null,
   "id": "8ee17e31",
   "metadata": {},
   "outputs": [],
   "source": [
    "! python --version"
   ]
  },
  {
   "cell_type": "markdown",
   "id": "8bddf659",
   "metadata": {},
   "source": [
    "### Import libs"
   ]
  },
  {
   "cell_type": "code",
   "execution_count": 1,
   "id": "8d655928",
   "metadata": {
    "ExecuteTime": {
     "end_time": "2023-03-12T16:29:26.588101Z",
     "start_time": "2023-03-12T16:29:24.143342Z"
    }
   },
   "outputs": [
    {
     "name": "stderr",
     "output_type": "stream",
     "text": [
      "[nltk_data] Downloading package stopwords to /home/jovyan/nltk_data...\n",
      "[nltk_data]   Package stopwords is already up-to-date!\n",
      "[nltk_data] Downloading package punkt to /home/jovyan/nltk_data...\n",
      "[nltk_data]   Package punkt is already up-to-date!\n"
     ]
    }
   ],
   "source": [
    "import gensim\n",
    "import gensim.corpora as corpora\n",
    "from gensim.utils import simple_preprocess\n",
    "from gensim.models import word2vec\n",
    "import multiprocessing\n",
    "import sklearn\n",
    "\n",
    "import pandas as pd\n",
    "import random\n",
    "import numpy as np\n",
    "import unicodedata\n",
    "import nltk\n",
    "import re\n",
    "from nltk.corpus import stopwords\n",
    "nltk.download('stopwords')\n",
    "nltk.download('punkt')\n",
    "import logging\n",
    "\n",
    "import matplotlib.pyplot as plt\n",
    "import seaborn as sns\n",
    "sns.set_style('whitegrid')\n",
    "%matplotlib inline\n",
    "\n",
    "from sklearn.model_selection import StratifiedShuffleSplit\n",
    "pd.set_option('display.max_rows', None)\n",
    "pd.set_option('display.max_colwidth', None)"
   ]
  },
  {
   "cell_type": "code",
   "execution_count": 2,
   "id": "603d5c25",
   "metadata": {
    "ExecuteTime": {
     "end_time": "2023-03-12T16:29:30.466828Z",
     "start_time": "2023-03-12T16:29:30.456856Z"
    }
   },
   "outputs": [
    {
     "name": "stdout",
     "output_type": "stream",
     "text": [
      "3.8.0\n"
     ]
    }
   ],
   "source": [
    "print(gensim.__version__)"
   ]
  },
  {
   "cell_type": "markdown",
   "id": "a18f63f6",
   "metadata": {},
   "source": [
    "### Functions to Clean Text"
   ]
  },
  {
   "cell_type": "code",
   "execution_count": 3,
   "id": "b1e7b7fd",
   "metadata": {
    "ExecuteTime": {
     "end_time": "2023-03-12T16:29:34.733776Z",
     "start_time": "2023-03-12T16:29:31.967420Z"
    }
   },
   "outputs": [],
   "source": [
    "stop_words = stopwords.words('portuguese')\n",
    "stop_words.pop(stop_words.index('não'))\n",
    "new_stopwords = ('bom', 'dia', 'ola', 'eu')\n",
    "for i in new_stopwords:\n",
    "    stop_words.append(i)\n",
    "\n",
    "def anonymizer(text,stop_words):\n",
    "    text = unicodedata.normalize('NFD', text).encode('ascii', 'ignore').decode('utf-8')\n",
    "    text = re.sub(' +', ' ', str(text).lower())\n",
    "    text = re.sub('((http?|ftp|smtp):\\/\\/)?(www.)?[a-z0-9]+\\.[a-z]+(\\/[a-zA-Z0-9#]+\\/?)*', ' ', str(text).lower())\n",
    "    text = re.sub('\\S+@\\S+', ' ', str(text).lower())\n",
    "    text = re.sub('@\\S+', ' ', str(text).lower())\n",
    "    text = re.sub('\\d', ' ', str(text).lower())\n",
    "    text = re.sub('https:\\S+', ' ', str(text).lower())\n",
    "    text = re.sub('[^a-z0-9 ]+', ' ', str(text).lower())\n",
    "    text = nltk.tokenize.word_tokenize(text, language='portuguese')\n",
    "    return ' '.join([w for w in text if not w in stop_words])"
   ]
  },
  {
   "cell_type": "markdown",
   "id": "57f855b1",
   "metadata": {},
   "source": [
    "### Analise de score do texto"
   ]
  },
  {
   "cell_type": "markdown",
   "id": "8b388077",
   "metadata": {},
   "source": [
    "### Converter as frases em um dataset pandas"
   ]
  },
  {
   "cell_type": "code",
   "execution_count": 4,
   "id": "fcd3c84a",
   "metadata": {
    "ExecuteTime": {
     "end_time": "2023-03-12T16:29:34.743082Z",
     "start_time": "2023-03-12T16:29:34.739469Z"
    }
   },
   "outputs": [],
   "source": [
    "dados = {'indices_id': ['0','1','2','3'],\n",
    "         'Frase original': ['Olhando para a escala na parede, qual valor indicaria melhor a sua dor hoje?',\n",
    "                           'Olhando para a escala na parede, qual valor indicaria melhor a sua dor hoje?',\n",
    "                           'Olhando para a escala na parede, qual valor indicaria melhor a sua dor hoje?',\n",
    "                           'Olhando para a escala na parede, qual valor indicaria melhor a sua dor hoje?'],\n",
    "         'Frases comparativas': ['De acordo com a escala de dor ali na parede', \n",
    "                                'qual valor você acha que mais representa a sua dor?',\n",
    "                                'De 0 a 10, qual o nível de intensidade da sua dor atualmente?',\n",
    "                                'Qual a intensidade da sua dor?'],\n",
    "         }"
   ]
  },
  {
   "cell_type": "code",
   "execution_count": 5,
   "id": "cc03315d",
   "metadata": {
    "ExecuteTime": {
     "end_time": "2023-03-12T16:29:34.799140Z",
     "start_time": "2023-03-12T16:29:34.745015Z"
    }
   },
   "outputs": [],
   "source": [
    "dataset = pd.DataFrame(dados)"
   ]
  },
  {
   "cell_type": "code",
   "execution_count": 6,
   "id": "b88957ae",
   "metadata": {
    "ExecuteTime": {
     "end_time": "2023-03-12T16:29:35.086867Z",
     "start_time": "2023-03-12T16:29:35.030781Z"
    }
   },
   "outputs": [
    {
     "data": {
      "text/html": [
       "<div>\n",
       "<style scoped>\n",
       "    .dataframe tbody tr th:only-of-type {\n",
       "        vertical-align: middle;\n",
       "    }\n",
       "\n",
       "    .dataframe tbody tr th {\n",
       "        vertical-align: top;\n",
       "    }\n",
       "\n",
       "    .dataframe thead th {\n",
       "        text-align: right;\n",
       "    }\n",
       "</style>\n",
       "<table border=\"1\" class=\"dataframe\">\n",
       "  <thead>\n",
       "    <tr style=\"text-align: right;\">\n",
       "      <th></th>\n",
       "      <th>indices_id</th>\n",
       "      <th>Frase original</th>\n",
       "      <th>Frases comparativas</th>\n",
       "    </tr>\n",
       "  </thead>\n",
       "  <tbody>\n",
       "    <tr>\n",
       "      <th>0</th>\n",
       "      <td>0</td>\n",
       "      <td>Olhando para a escala na parede, qual valor indicaria melhor a sua dor hoje?</td>\n",
       "      <td>De acordo com a escala de dor ali na parede</td>\n",
       "    </tr>\n",
       "    <tr>\n",
       "      <th>1</th>\n",
       "      <td>1</td>\n",
       "      <td>Olhando para a escala na parede, qual valor indicaria melhor a sua dor hoje?</td>\n",
       "      <td>qual valor você acha que mais representa a sua dor?</td>\n",
       "    </tr>\n",
       "    <tr>\n",
       "      <th>2</th>\n",
       "      <td>2</td>\n",
       "      <td>Olhando para a escala na parede, qual valor indicaria melhor a sua dor hoje?</td>\n",
       "      <td>De 0 a 10, qual o nível de intensidade da sua dor atualmente?</td>\n",
       "    </tr>\n",
       "    <tr>\n",
       "      <th>3</th>\n",
       "      <td>3</td>\n",
       "      <td>Olhando para a escala na parede, qual valor indicaria melhor a sua dor hoje?</td>\n",
       "      <td>Qual a intensidade da sua dor?</td>\n",
       "    </tr>\n",
       "  </tbody>\n",
       "</table>\n",
       "</div>"
      ],
      "text/plain": [
       "  indices_id  \\\n",
       "0          0   \n",
       "1          1   \n",
       "2          2   \n",
       "3          3   \n",
       "\n",
       "                                                                 Frase original  \\\n",
       "0  Olhando para a escala na parede, qual valor indicaria melhor a sua dor hoje?   \n",
       "1  Olhando para a escala na parede, qual valor indicaria melhor a sua dor hoje?   \n",
       "2  Olhando para a escala na parede, qual valor indicaria melhor a sua dor hoje?   \n",
       "3  Olhando para a escala na parede, qual valor indicaria melhor a sua dor hoje?   \n",
       "\n",
       "                                             Frases comparativas  \n",
       "0                    De acordo com a escala de dor ali na parede  \n",
       "1            qual valor você acha que mais representa a sua dor?  \n",
       "2  De 0 a 10, qual o nível de intensidade da sua dor atualmente?  \n",
       "3                                 Qual a intensidade da sua dor?  "
      ]
     },
     "execution_count": 6,
     "metadata": {},
     "output_type": "execute_result"
    }
   ],
   "source": [
    "dataset"
   ]
  },
  {
   "cell_type": "code",
   "execution_count": 7,
   "id": "2808f87f",
   "metadata": {
    "ExecuteTime": {
     "end_time": "2023-03-12T16:29:35.833884Z",
     "start_time": "2023-03-12T16:29:35.795525Z"
    }
   },
   "outputs": [
    {
     "data": {
      "text/plain": [
       "(4, 3)"
      ]
     },
     "execution_count": 7,
     "metadata": {},
     "output_type": "execute_result"
    }
   ],
   "source": [
    "dataset.shape"
   ]
  },
  {
   "cell_type": "code",
   "execution_count": 8,
   "id": "07967fc3",
   "metadata": {
    "ExecuteTime": {
     "end_time": "2023-03-12T16:29:36.451534Z",
     "start_time": "2023-03-12T16:29:36.416706Z"
    }
   },
   "outputs": [],
   "source": [
    "dataset['frase_original_clean'] = dataset['Frase original'].apply(lambda x: anonymizer(x, stop_words))\n",
    "dataset['Frases_comparativas_clean'] = dataset['Frases comparativas'].apply(lambda x: anonymizer(x, stop_words))"
   ]
  },
  {
   "cell_type": "markdown",
   "id": "5a3b9f9c",
   "metadata": {},
   "source": [
    "### Comparative original column with column clean"
   ]
  },
  {
   "cell_type": "code",
   "execution_count": 9,
   "id": "a2353bab",
   "metadata": {
    "ExecuteTime": {
     "end_time": "2023-03-12T16:29:37.425897Z",
     "start_time": "2023-03-12T16:29:37.367273Z"
    }
   },
   "outputs": [
    {
     "data": {
      "text/html": [
       "<div>\n",
       "<style scoped>\n",
       "    .dataframe tbody tr th:only-of-type {\n",
       "        vertical-align: middle;\n",
       "    }\n",
       "\n",
       "    .dataframe tbody tr th {\n",
       "        vertical-align: top;\n",
       "    }\n",
       "\n",
       "    .dataframe thead th {\n",
       "        text-align: right;\n",
       "    }\n",
       "</style>\n",
       "<table border=\"1\" class=\"dataframe\">\n",
       "  <thead>\n",
       "    <tr style=\"text-align: right;\">\n",
       "      <th></th>\n",
       "      <th>Frase original</th>\n",
       "      <th>frase_original_clean</th>\n",
       "      <th>Frases comparativas</th>\n",
       "      <th>Frases_comparativas_clean</th>\n",
       "    </tr>\n",
       "  </thead>\n",
       "  <tbody>\n",
       "    <tr>\n",
       "      <th>0</th>\n",
       "      <td>Olhando para a escala na parede, qual valor indicaria melhor a sua dor hoje?</td>\n",
       "      <td>olhando escala parede valor indicaria melhor dor hoje</td>\n",
       "      <td>De acordo com a escala de dor ali na parede</td>\n",
       "      <td>acordo escala dor ali parede</td>\n",
       "    </tr>\n",
       "    <tr>\n",
       "      <th>1</th>\n",
       "      <td>Olhando para a escala na parede, qual valor indicaria melhor a sua dor hoje?</td>\n",
       "      <td>olhando escala parede valor indicaria melhor dor hoje</td>\n",
       "      <td>qual valor você acha que mais representa a sua dor?</td>\n",
       "      <td>valor voce acha representa dor</td>\n",
       "    </tr>\n",
       "    <tr>\n",
       "      <th>2</th>\n",
       "      <td>Olhando para a escala na parede, qual valor indicaria melhor a sua dor hoje?</td>\n",
       "      <td>olhando escala parede valor indicaria melhor dor hoje</td>\n",
       "      <td>De 0 a 10, qual o nível de intensidade da sua dor atualmente?</td>\n",
       "      <td>nivel intensidade dor atualmente</td>\n",
       "    </tr>\n",
       "    <tr>\n",
       "      <th>3</th>\n",
       "      <td>Olhando para a escala na parede, qual valor indicaria melhor a sua dor hoje?</td>\n",
       "      <td>olhando escala parede valor indicaria melhor dor hoje</td>\n",
       "      <td>Qual a intensidade da sua dor?</td>\n",
       "      <td>intensidade dor</td>\n",
       "    </tr>\n",
       "  </tbody>\n",
       "</table>\n",
       "</div>"
      ],
      "text/plain": [
       "                                                                 Frase original  \\\n",
       "0  Olhando para a escala na parede, qual valor indicaria melhor a sua dor hoje?   \n",
       "1  Olhando para a escala na parede, qual valor indicaria melhor a sua dor hoje?   \n",
       "2  Olhando para a escala na parede, qual valor indicaria melhor a sua dor hoje?   \n",
       "3  Olhando para a escala na parede, qual valor indicaria melhor a sua dor hoje?   \n",
       "\n",
       "                                    frase_original_clean  \\\n",
       "0  olhando escala parede valor indicaria melhor dor hoje   \n",
       "1  olhando escala parede valor indicaria melhor dor hoje   \n",
       "2  olhando escala parede valor indicaria melhor dor hoje   \n",
       "3  olhando escala parede valor indicaria melhor dor hoje   \n",
       "\n",
       "                                             Frases comparativas  \\\n",
       "0                    De acordo com a escala de dor ali na parede   \n",
       "1            qual valor você acha que mais representa a sua dor?   \n",
       "2  De 0 a 10, qual o nível de intensidade da sua dor atualmente?   \n",
       "3                                 Qual a intensidade da sua dor?   \n",
       "\n",
       "          Frases_comparativas_clean  \n",
       "0      acordo escala dor ali parede  \n",
       "1    valor voce acha representa dor  \n",
       "2  nivel intensidade dor atualmente  \n",
       "3                   intensidade dor  "
      ]
     },
     "execution_count": 9,
     "metadata": {},
     "output_type": "execute_result"
    }
   ],
   "source": [
    "dataset[['Frase original','frase_original_clean', 'Frases comparativas','Frases_comparativas_clean']]"
   ]
  },
  {
   "cell_type": "markdown",
   "id": "d8e1fd19",
   "metadata": {},
   "source": [
    "### Creating tokens and training model Word2Vec"
   ]
  },
  {
   "cell_type": "code",
   "execution_count": 10,
   "id": "761bb0d0",
   "metadata": {
    "ExecuteTime": {
     "end_time": "2023-03-12T16:29:38.420979Z",
     "start_time": "2023-03-12T16:29:38.417309Z"
    }
   },
   "outputs": [],
   "source": [
    "def build_corpus(data):\n",
    "    corpus = []\n",
    "    for sentence in data:\n",
    "        word_list = sentence.split(\" \")\n",
    "        corpus.append(word_list)\n",
    "    return corpus\n",
    "\n",
    "def createModel_word2vec(text,size=None,min_count=None,window=None):\n",
    "    model = gensim.models.word2vec.Word2Vec(text,min_count=min_count,window=window,workers=10)\n",
    "    return model"
   ]
  },
  {
   "cell_type": "code",
   "execution_count": 11,
   "id": "fe15ec9f",
   "metadata": {
    "ExecuteTime": {
     "end_time": "2023-03-12T16:29:39.036561Z",
     "start_time": "2023-03-12T16:29:39.031557Z"
    }
   },
   "outputs": [],
   "source": [
    "dataset[\"Frases_comparativas_clean_wc\"] = build_corpus(dataset['Frases_comparativas_clean'])\n",
    "dataset[\"frase_original_clean_wc\"] = build_corpus(dataset['frase_original_clean'])"
   ]
  },
  {
   "cell_type": "code",
   "execution_count": 12,
   "id": "0c54d67f",
   "metadata": {
    "ExecuteTime": {
     "end_time": "2023-03-12T16:29:39.640324Z",
     "start_time": "2023-03-12T16:29:39.624944Z"
    }
   },
   "outputs": [
    {
     "data": {
      "text/html": [
       "<div>\n",
       "<style scoped>\n",
       "    .dataframe tbody tr th:only-of-type {\n",
       "        vertical-align: middle;\n",
       "    }\n",
       "\n",
       "    .dataframe tbody tr th {\n",
       "        vertical-align: top;\n",
       "    }\n",
       "\n",
       "    .dataframe thead th {\n",
       "        text-align: right;\n",
       "    }\n",
       "</style>\n",
       "<table border=\"1\" class=\"dataframe\">\n",
       "  <thead>\n",
       "    <tr style=\"text-align: right;\">\n",
       "      <th></th>\n",
       "      <th>frase_original_clean_wc</th>\n",
       "      <th>Frases_comparativas_clean_wc</th>\n",
       "    </tr>\n",
       "  </thead>\n",
       "  <tbody>\n",
       "    <tr>\n",
       "      <th>0</th>\n",
       "      <td>[olhando, escala, parede, valor, indicaria, melhor, dor, hoje]</td>\n",
       "      <td>[acordo, escala, dor, ali, parede]</td>\n",
       "    </tr>\n",
       "    <tr>\n",
       "      <th>1</th>\n",
       "      <td>[olhando, escala, parede, valor, indicaria, melhor, dor, hoje]</td>\n",
       "      <td>[valor, voce, acha, representa, dor]</td>\n",
       "    </tr>\n",
       "    <tr>\n",
       "      <th>2</th>\n",
       "      <td>[olhando, escala, parede, valor, indicaria, melhor, dor, hoje]</td>\n",
       "      <td>[nivel, intensidade, dor, atualmente]</td>\n",
       "    </tr>\n",
       "    <tr>\n",
       "      <th>3</th>\n",
       "      <td>[olhando, escala, parede, valor, indicaria, melhor, dor, hoje]</td>\n",
       "      <td>[intensidade, dor]</td>\n",
       "    </tr>\n",
       "  </tbody>\n",
       "</table>\n",
       "</div>"
      ],
      "text/plain": [
       "                                          frase_original_clean_wc  \\\n",
       "0  [olhando, escala, parede, valor, indicaria, melhor, dor, hoje]   \n",
       "1  [olhando, escala, parede, valor, indicaria, melhor, dor, hoje]   \n",
       "2  [olhando, escala, parede, valor, indicaria, melhor, dor, hoje]   \n",
       "3  [olhando, escala, parede, valor, indicaria, melhor, dor, hoje]   \n",
       "\n",
       "            Frases_comparativas_clean_wc  \n",
       "0     [acordo, escala, dor, ali, parede]  \n",
       "1   [valor, voce, acha, representa, dor]  \n",
       "2  [nivel, intensidade, dor, atualmente]  \n",
       "3                     [intensidade, dor]  "
      ]
     },
     "execution_count": 12,
     "metadata": {},
     "output_type": "execute_result"
    }
   ],
   "source": [
    "dataset[['frase_original_clean_wc',\"Frases_comparativas_clean_wc\"]]"
   ]
  },
  {
   "cell_type": "markdown",
   "id": "c07376ff",
   "metadata": {},
   "source": [
    "### Concat columns and convert all words in vector"
   ]
  },
  {
   "cell_type": "code",
   "execution_count": 13,
   "id": "6816287f",
   "metadata": {
    "ExecuteTime": {
     "end_time": "2023-03-12T16:29:40.716313Z",
     "start_time": "2023-03-12T16:29:40.711212Z"
    }
   },
   "outputs": [],
   "source": [
    "dataset[\"concat\"] = dataset[\"frase_original_clean_wc\"] + dataset[\"Frases_comparativas_clean_wc\"]"
   ]
  },
  {
   "cell_type": "code",
   "execution_count": 14,
   "id": "43d391f1",
   "metadata": {
    "ExecuteTime": {
     "end_time": "2023-03-12T16:29:41.293244Z",
     "start_time": "2023-03-12T16:29:41.287403Z"
    }
   },
   "outputs": [
    {
     "data": {
      "text/plain": [
       "0       [olhando, escala, parede, valor, indicaria, melhor, dor, hoje, acordo, escala, dor, ali, parede]\n",
       "1     [olhando, escala, parede, valor, indicaria, melhor, dor, hoje, valor, voce, acha, representa, dor]\n",
       "2    [olhando, escala, parede, valor, indicaria, melhor, dor, hoje, nivel, intensidade, dor, atualmente]\n",
       "3                       [olhando, escala, parede, valor, indicaria, melhor, dor, hoje, intensidade, dor]\n",
       "Name: concat, dtype: object"
      ]
     },
     "execution_count": 14,
     "metadata": {},
     "output_type": "execute_result"
    }
   ],
   "source": [
    "dataset['concat']"
   ]
  },
  {
   "cell_type": "markdown",
   "id": "4c79123d",
   "metadata": {},
   "source": [
    "### Training model"
   ]
  },
  {
   "cell_type": "code",
   "execution_count": 15,
   "id": "d8921939",
   "metadata": {
    "ExecuteTime": {
     "end_time": "2023-03-12T16:29:42.511974Z",
     "start_time": "2023-03-12T16:29:42.360213Z"
    }
   },
   "outputs": [],
   "source": [
    "model_wc = createModel_word2vec(dataset['concat'],min_count=1,window=10)"
   ]
  },
  {
   "cell_type": "code",
   "execution_count": 16,
   "id": "a65f308e",
   "metadata": {
    "ExecuteTime": {
     "end_time": "2023-03-12T16:29:43.042952Z",
     "start_time": "2023-03-12T16:29:43.037021Z"
    }
   },
   "outputs": [
    {
     "data": {
      "text/plain": [
       "gensim.models.word2vec.Word2Vec"
      ]
     },
     "execution_count": 16,
     "metadata": {},
     "output_type": "execute_result"
    }
   ],
   "source": [
    "type(model_wc)"
   ]
  },
  {
   "cell_type": "markdown",
   "id": "6839fcba",
   "metadata": {},
   "source": [
    "### Visualize Vocabulary"
   ]
  },
  {
   "cell_type": "code",
   "execution_count": 17,
   "id": "46a158d7",
   "metadata": {
    "ExecuteTime": {
     "end_time": "2023-03-12T16:29:44.902337Z",
     "start_time": "2023-03-12T16:29:44.889274Z"
    }
   },
   "outputs": [
    {
     "data": {
      "text/plain": [
       "{'olhando': <gensim.models.keyedvectors.Vocab at 0x7f5658521d90>,\n",
       " 'escala': <gensim.models.keyedvectors.Vocab at 0x7f5658521970>,\n",
       " 'parede': <gensim.models.keyedvectors.Vocab at 0x7f5658521d00>,\n",
       " 'valor': <gensim.models.keyedvectors.Vocab at 0x7f5658521490>,\n",
       " 'indicaria': <gensim.models.keyedvectors.Vocab at 0x7f5658521520>,\n",
       " 'melhor': <gensim.models.keyedvectors.Vocab at 0x7f5658521b80>,\n",
       " 'dor': <gensim.models.keyedvectors.Vocab at 0x7f5658521dc0>,\n",
       " 'hoje': <gensim.models.keyedvectors.Vocab at 0x7f56585214c0>,\n",
       " 'acordo': <gensim.models.keyedvectors.Vocab at 0x7f5658521d60>,\n",
       " 'ali': <gensim.models.keyedvectors.Vocab at 0x7f565858bf10>,\n",
       " 'voce': <gensim.models.keyedvectors.Vocab at 0x7f565858b610>,\n",
       " 'acha': <gensim.models.keyedvectors.Vocab at 0x7f55ecfc9a90>,\n",
       " 'representa': <gensim.models.keyedvectors.Vocab at 0x7f5658587ca0>,\n",
       " 'nivel': <gensim.models.keyedvectors.Vocab at 0x7f5658521e20>,\n",
       " 'intensidade': <gensim.models.keyedvectors.Vocab at 0x7f55eccb9cd0>,\n",
       " 'atualmente': <gensim.models.keyedvectors.Vocab at 0x7f55eccb9160>}"
      ]
     },
     "execution_count": 17,
     "metadata": {},
     "output_type": "execute_result"
    }
   ],
   "source": [
    "model_wc.wv.vocab"
   ]
  },
  {
   "cell_type": "code",
   "execution_count": 18,
   "id": "d7df2ff9",
   "metadata": {
    "ExecuteTime": {
     "end_time": "2023-03-12T16:29:45.470392Z",
     "start_time": "2023-03-12T16:29:45.460016Z"
    }
   },
   "outputs": [
    {
     "data": {
      "text/plain": [
       "['olhando',\n",
       " 'escala',\n",
       " 'parede',\n",
       " 'valor',\n",
       " 'indicaria',\n",
       " 'melhor',\n",
       " 'dor',\n",
       " 'hoje',\n",
       " 'acordo',\n",
       " 'ali',\n",
       " 'voce',\n",
       " 'acha',\n",
       " 'representa',\n",
       " 'nivel',\n",
       " 'intensidade',\n",
       " 'atualmente']"
      ]
     },
     "execution_count": 18,
     "metadata": {},
     "output_type": "execute_result"
    }
   ],
   "source": [
    "[x for x in model_wc.wv.vocab]"
   ]
  },
  {
   "cell_type": "markdown",
   "id": "51c0b699",
   "metadata": {},
   "source": [
    "### Get similar words"
   ]
  },
  {
   "cell_type": "code",
   "execution_count": 19,
   "id": "12a7bacd",
   "metadata": {
    "ExecuteTime": {
     "end_time": "2023-03-12T16:29:46.683709Z",
     "start_time": "2023-03-12T16:29:46.673352Z"
    }
   },
   "outputs": [
    {
     "name": "stderr",
     "output_type": "stream",
     "text": [
      "<ipython-input-19-caf29175ad26>:1: DeprecationWarning: Call to deprecated `most_similar` (Method will be removed in 4.0.0, use self.wv.most_similar() instead).\n",
      "  [(item[0],round(item[1],2)) for item in model_wc.most_similar('dor')]\n"
     ]
    },
    {
     "data": {
      "text/plain": [
       "[('representa', 0.26),\n",
       " ('acordo', 0.11),\n",
       " ('intensidade', 0.1),\n",
       " ('escala', 0.06),\n",
       " ('atualmente', 0.04),\n",
       " ('ali', 0.03),\n",
       " ('voce', 0.02),\n",
       " ('parede', -0.01),\n",
       " ('olhando', -0.01),\n",
       " ('melhor', -0.03)]"
      ]
     },
     "execution_count": 19,
     "metadata": {},
     "output_type": "execute_result"
    }
   ],
   "source": [
    "[(item[0],round(item[1],2)) for item in model_wc.most_similar('dor')]"
   ]
  },
  {
   "cell_type": "code",
   "execution_count": 20,
   "id": "350d666b",
   "metadata": {
    "ExecuteTime": {
     "end_time": "2023-03-12T16:29:47.282958Z",
     "start_time": "2023-03-12T16:29:47.265208Z"
    }
   },
   "outputs": [
    {
     "name": "stdout",
     "output_type": "stream",
     "text": [
      "olhando\n",
      "escala\n",
      "parede\n",
      "valor\n",
      "indicaria\n",
      "melhor\n",
      "dor\n",
      "hoje\n",
      "acordo\n",
      "ali\n",
      "voce\n",
      "acha\n",
      "representa\n",
      "nivel\n",
      "intensidade\n",
      "atualmente\n"
     ]
    },
    {
     "name": "stderr",
     "output_type": "stream",
     "text": [
      "<ipython-input-20-d76d8bbdbf23>:8: DeprecationWarning: Call to deprecated `most_similar` (Method will be removed in 4.0.0, use self.wv.most_similar() instead).\n",
      "  for similar_word, _ in model_wc.most_similar(word, topn=30):\n",
      "<ipython-input-20-d76d8bbdbf23>:10: DeprecationWarning: Call to deprecated `__getitem__` (Method will be removed in 4.0.0, use self.wv.__getitem__() instead).\n",
      "  embeddings.append(model_wc[similar_word])\n"
     ]
    }
   ],
   "source": [
    "keys = [x for x in model_wc.wv.vocab]\n",
    "embedding_clusters = []\n",
    "word_clusters = []\n",
    "for word in keys:\n",
    "    print(word)\n",
    "    embeddings = []\n",
    "    words = []\n",
    "    for similar_word, _ in model_wc.most_similar(word, topn=30):\n",
    "        words.append(similar_word)\n",
    "        embeddings.append(model_wc[similar_word])\n",
    "    embedding_clusters.append(embeddings)\n",
    "    word_clusters.append(words)\n",
    "    \n",
    "    model_wc.most_similar"
   ]
  },
  {
   "cell_type": "markdown",
   "id": "591adebb",
   "metadata": {},
   "source": [
    "### Word Embedding"
   ]
  },
  {
   "cell_type": "code",
   "execution_count": 21,
   "id": "f4fe86db",
   "metadata": {
    "ExecuteTime": {
     "end_time": "2023-03-12T16:29:49.480408Z",
     "start_time": "2023-03-12T16:29:48.441648Z"
    }
   },
   "outputs": [
    {
     "name": "stderr",
     "output_type": "stream",
     "text": [
      "Exception ignored on calling ctypes callback function: <function _ThreadpoolInfo._find_modules_with_dl_iterate_phdr.<locals>.match_module_callback at 0x7f55eccd2430>\n",
      "Traceback (most recent call last):\n",
      "  File \"/opt/conda/lib/python3.8/site-packages/threadpoolctl.py\", line 400, in match_module_callback\n",
      "    self._make_module_from_path(filepath)\n",
      "  File \"/opt/conda/lib/python3.8/site-packages/threadpoolctl.py\", line 515, in _make_module_from_path\n",
      "    module = module_class(filepath, prefix, user_api, internal_api)\n",
      "  File \"/opt/conda/lib/python3.8/site-packages/threadpoolctl.py\", line 606, in __init__\n",
      "    self.version = self.get_version()\n",
      "  File \"/opt/conda/lib/python3.8/site-packages/threadpoolctl.py\", line 646, in get_version\n",
      "    config = get_config().split()\n",
      "AttributeError: 'NoneType' object has no attribute 'split'\n"
     ]
    }
   ],
   "source": [
    "from sklearn.manifold import TSNE\n",
    "embedding_clusters = np.array(embedding_clusters)\n",
    "n, m, k = embedding_clusters.shape\n",
    "tsne_model_en_2d = TSNE(perplexity=10, n_components=2, init='pca', n_iter=3500, random_state=32)\n",
    "embeddings_en_2d = np.array(tsne_model_en_2d.fit_transform(embedding_clusters.reshape(n * m, k))).reshape(n, m, 2)"
   ]
  },
  {
   "cell_type": "markdown",
   "id": "254208fb",
   "metadata": {},
   "source": [
    "### Plot with similar words"
   ]
  },
  {
   "cell_type": "code",
   "execution_count": 22,
   "id": "62e4d71d",
   "metadata": {
    "ExecuteTime": {
     "end_time": "2023-03-12T16:29:49.881526Z",
     "start_time": "2023-03-12T16:29:49.872305Z"
    }
   },
   "outputs": [],
   "source": [
    "import matplotlib.cm as cm\n",
    "\n",
    "def tsne_plot_similar_words(title, labels, embedding_clusters, word_clusters, a, filename=None):\n",
    "    plt.figure(figsize=(16, 9))\n",
    "    colors = cm.rainbow(np.linspace(0, 1, len(labels)))\n",
    "    for label, embeddings, words, color in zip(labels, embedding_clusters, word_clusters, colors):\n",
    "        x = embeddings[:, 0]\n",
    "        y = embeddings[:, 1]\n",
    "        plt.scatter(x, y, c=color, alpha=a, label=label)\n",
    "        for i, word in enumerate(words):\n",
    "            plt.annotate(word, alpha=0.5, xy=(x[i], y[i]), xytext=(5, 2),\n",
    "                         textcoords='offset points', ha='right', va='bottom', size=8)\n",
    "    plt.legend(loc=4)\n",
    "    plt.title(title)\n",
    "    plt.grid(True)\n",
    "    if filename:\n",
    "        plt.savefig(filename, format='png', dpi=150, bbox_inches='tight')\n",
    "    plt.show()"
   ]
  },
  {
   "cell_type": "code",
   "execution_count": 23,
   "id": "c254d31a",
   "metadata": {
    "ExecuteTime": {
     "end_time": "2023-03-12T16:29:52.862111Z",
     "start_time": "2023-03-12T16:29:50.735653Z"
    },
    "scrolled": false
   },
   "outputs": [
    {
     "name": "stderr",
     "output_type": "stream",
     "text": [
      "*c* argument looks like a single numeric RGB or RGBA sequence, which should be avoided as value-mapping will have precedence in case its length matches with *x* & *y*.  Please use the *color* keyword-argument or provide a 2D array with a single row if you intend to specify the same RGB or RGBA value for all points.\n",
      "*c* argument looks like a single numeric RGB or RGBA sequence, which should be avoided as value-mapping will have precedence in case its length matches with *x* & *y*.  Please use the *color* keyword-argument or provide a 2D array with a single row if you intend to specify the same RGB or RGBA value for all points.\n",
      "*c* argument looks like a single numeric RGB or RGBA sequence, which should be avoided as value-mapping will have precedence in case its length matches with *x* & *y*.  Please use the *color* keyword-argument or provide a 2D array with a single row if you intend to specify the same RGB or RGBA value for all points.\n",
      "*c* argument looks like a single numeric RGB or RGBA sequence, which should be avoided as value-mapping will have precedence in case its length matches with *x* & *y*.  Please use the *color* keyword-argument or provide a 2D array with a single row if you intend to specify the same RGB or RGBA value for all points.\n",
      "*c* argument looks like a single numeric RGB or RGBA sequence, which should be avoided as value-mapping will have precedence in case its length matches with *x* & *y*.  Please use the *color* keyword-argument or provide a 2D array with a single row if you intend to specify the same RGB or RGBA value for all points.\n",
      "*c* argument looks like a single numeric RGB or RGBA sequence, which should be avoided as value-mapping will have precedence in case its length matches with *x* & *y*.  Please use the *color* keyword-argument or provide a 2D array with a single row if you intend to specify the same RGB or RGBA value for all points.\n",
      "*c* argument looks like a single numeric RGB or RGBA sequence, which should be avoided as value-mapping will have precedence in case its length matches with *x* & *y*.  Please use the *color* keyword-argument or provide a 2D array with a single row if you intend to specify the same RGB or RGBA value for all points.\n",
      "*c* argument looks like a single numeric RGB or RGBA sequence, which should be avoided as value-mapping will have precedence in case its length matches with *x* & *y*.  Please use the *color* keyword-argument or provide a 2D array with a single row if you intend to specify the same RGB or RGBA value for all points.\n",
      "*c* argument looks like a single numeric RGB or RGBA sequence, which should be avoided as value-mapping will have precedence in case its length matches with *x* & *y*.  Please use the *color* keyword-argument or provide a 2D array with a single row if you intend to specify the same RGB or RGBA value for all points.\n",
      "*c* argument looks like a single numeric RGB or RGBA sequence, which should be avoided as value-mapping will have precedence in case its length matches with *x* & *y*.  Please use the *color* keyword-argument or provide a 2D array with a single row if you intend to specify the same RGB or RGBA value for all points.\n",
      "*c* argument looks like a single numeric RGB or RGBA sequence, which should be avoided as value-mapping will have precedence in case its length matches with *x* & *y*.  Please use the *color* keyword-argument or provide a 2D array with a single row if you intend to specify the same RGB or RGBA value for all points.\n",
      "*c* argument looks like a single numeric RGB or RGBA sequence, which should be avoided as value-mapping will have precedence in case its length matches with *x* & *y*.  Please use the *color* keyword-argument or provide a 2D array with a single row if you intend to specify the same RGB or RGBA value for all points.\n",
      "*c* argument looks like a single numeric RGB or RGBA sequence, which should be avoided as value-mapping will have precedence in case its length matches with *x* & *y*.  Please use the *color* keyword-argument or provide a 2D array with a single row if you intend to specify the same RGB or RGBA value for all points.\n",
      "*c* argument looks like a single numeric RGB or RGBA sequence, which should be avoided as value-mapping will have precedence in case its length matches with *x* & *y*.  Please use the *color* keyword-argument or provide a 2D array with a single row if you intend to specify the same RGB or RGBA value for all points.\n",
      "*c* argument looks like a single numeric RGB or RGBA sequence, which should be avoided as value-mapping will have precedence in case its length matches with *x* & *y*.  Please use the *color* keyword-argument or provide a 2D array with a single row if you intend to specify the same RGB or RGBA value for all points.\n",
      "*c* argument looks like a single numeric RGB or RGBA sequence, which should be avoided as value-mapping will have precedence in case its length matches with *x* & *y*.  Please use the *color* keyword-argument or provide a 2D array with a single row if you intend to specify the same RGB or RGBA value for all points.\n"
     ]
    },
    {
     "data": {
      "image/png": "[encoded data removed]",
      "text/plain": [
       "<Figure size 1152x648 with 1 Axes>"
      ]
     },
     "metadata": {
      "needs_background": "light"
     },
     "output_type": "display_data"
    }
   ],
   "source": [
    "tsne_plot_similar_words('Similar words from text', keys, embeddings_en_2d, word_clusters, 0.1,\n",
    "                        'similar_words.png')"
   ]
  },
  {
   "cell_type": "code",
   "execution_count": 24,
   "id": "88b05e77",
   "metadata": {
    "ExecuteTime": {
     "end_time": "2023-03-12T16:29:52.870879Z",
     "start_time": "2023-03-12T16:29:52.863431Z"
    }
   },
   "outputs": [
    {
     "name": "stdout",
     "output_type": "stream",
     "text": [
      "Loaded 16 words in vocabulary\n"
     ]
    }
   ],
   "source": [
    "w2v_vocab = set(model_wc.wv.vocab)\n",
    "print(\"Loaded {} words in vocabulary\".format(len(w2v_vocab)))"
   ]
  },
  {
   "cell_type": "markdown",
   "id": "ef8ca814",
   "metadata": {},
   "source": [
    "### Make a similarity matrix for words and visualise"
   ]
  },
  {
   "cell_type": "code",
   "execution_count": 25,
   "id": "5413abde",
   "metadata": {
    "ExecuteTime": {
     "end_time": "2023-03-12T16:29:55.808790Z",
     "start_time": "2023-03-12T16:29:55.791798Z"
    }
   },
   "outputs": [
    {
     "name": "stderr",
     "output_type": "stream",
     "text": [
      "<ipython-input-25-c1eab9ff789f>:6: DeprecationWarning: Call to deprecated `similarity` (Method will be removed in 4.0.0, use self.wv.similarity() instead).\n",
      "  sim = model_wc.similarity(word1, word2)\n"
     ]
    }
   ],
   "source": [
    "words = [x for x in model_wc.wv.vocab]\n",
    "similarities = np.zeros((len(words), len(words)), dtype=np.float_)\n",
    "for idx1, word1 in enumerate(words):\n",
    "    for idx2, word2 in enumerate(words):\n",
    "        # note KeyError is possible if word doesn't exist\n",
    "        sim = model_wc.similarity(word1, word2)\n",
    "        similarities[idx1, idx2] = sim\n",
    "        \n",
    "df = pd.DataFrame.from_records(similarities, columns=words)\n",
    "df.index = words"
   ]
  },
  {
   "cell_type": "code",
   "execution_count": 26,
   "id": "729fcad3",
   "metadata": {
    "ExecuteTime": {
     "end_time": "2023-03-12T16:29:56.549788Z",
     "start_time": "2023-03-12T16:29:56.527825Z"
    }
   },
   "outputs": [
    {
     "data": {
      "text/html": [
       "<div>\n",
       "<style scoped>\n",
       "    .dataframe tbody tr th:only-of-type {\n",
       "        vertical-align: middle;\n",
       "    }\n",
       "\n",
       "    .dataframe tbody tr th {\n",
       "        vertical-align: top;\n",
       "    }\n",
       "\n",
       "    .dataframe thead th {\n",
       "        text-align: right;\n",
       "    }\n",
       "</style>\n",
       "<table border=\"1\" class=\"dataframe\">\n",
       "  <thead>\n",
       "    <tr style=\"text-align: right;\">\n",
       "      <th></th>\n",
       "      <th>olhando</th>\n",
       "      <th>escala</th>\n",
       "      <th>parede</th>\n",
       "      <th>valor</th>\n",
       "      <th>indicaria</th>\n",
       "      <th>melhor</th>\n",
       "      <th>dor</th>\n",
       "      <th>hoje</th>\n",
       "      <th>acordo</th>\n",
       "      <th>ali</th>\n",
       "      <th>voce</th>\n",
       "      <th>acha</th>\n",
       "      <th>representa</th>\n",
       "      <th>nivel</th>\n",
       "      <th>intensidade</th>\n",
       "      <th>atualmente</th>\n",
       "    </tr>\n",
       "  </thead>\n",
       "  <tbody>\n",
       "    <tr>\n",
       "      <th>olhando</th>\n",
       "      <td>1.000000</td>\n",
       "      <td>0.066520</td>\n",
       "      <td>0.059545</td>\n",
       "      <td>0.059261</td>\n",
       "      <td>0.040879</td>\n",
       "      <td>0.092491</td>\n",
       "      <td>-0.014007</td>\n",
       "      <td>-0.010815</td>\n",
       "      <td>-0.019669</td>\n",
       "      <td>0.259668</td>\n",
       "      <td>-0.032008</td>\n",
       "      <td>-0.068594</td>\n",
       "      <td>0.048166</td>\n",
       "      <td>0.004514</td>\n",
       "      <td>0.192427</td>\n",
       "      <td>0.081342</td>\n",
       "    </tr>\n",
       "    <tr>\n",
       "      <th>escala</th>\n",
       "      <td>0.066520</td>\n",
       "      <td>1.000000</td>\n",
       "      <td>-0.122987</td>\n",
       "      <td>-0.058753</td>\n",
       "      <td>-0.066437</td>\n",
       "      <td>0.090064</td>\n",
       "      <td>0.059045</td>\n",
       "      <td>0.001988</td>\n",
       "      <td>0.054723</td>\n",
       "      <td>0.137967</td>\n",
       "      <td>0.077290</td>\n",
       "      <td>0.044742</td>\n",
       "      <td>0.151934</td>\n",
       "      <td>-0.038407</td>\n",
       "      <td>-0.009756</td>\n",
       "      <td>0.089586</td>\n",
       "    </tr>\n",
       "    <tr>\n",
       "      <th>parede</th>\n",
       "      <td>0.059545</td>\n",
       "      <td>-0.122987</td>\n",
       "      <td>1.000000</td>\n",
       "      <td>-0.091892</td>\n",
       "      <td>0.062876</td>\n",
       "      <td>0.031719</td>\n",
       "      <td>-0.013811</td>\n",
       "      <td>0.051383</td>\n",
       "      <td>0.075287</td>\n",
       "      <td>-0.047179</td>\n",
       "      <td>-0.031599</td>\n",
       "      <td>-0.124243</td>\n",
       "      <td>0.154249</td>\n",
       "      <td>-0.039371</td>\n",
       "      <td>-0.055442</td>\n",
       "      <td>0.024099</td>\n",
       "    </tr>\n",
       "    <tr>\n",
       "      <th>valor</th>\n",
       "      <td>0.059261</td>\n",
       "      <td>-0.058753</td>\n",
       "      <td>-0.091892</td>\n",
       "      <td>1.000000</td>\n",
       "      <td>-0.043724</td>\n",
       "      <td>-0.084003</td>\n",
       "      <td>-0.131630</td>\n",
       "      <td>0.039856</td>\n",
       "      <td>-0.192903</td>\n",
       "      <td>0.137006</td>\n",
       "      <td>-0.097976</td>\n",
       "      <td>0.002215</td>\n",
       "      <td>-0.080036</td>\n",
       "      <td>0.081097</td>\n",
       "      <td>0.063629</td>\n",
       "      <td>0.228253</td>\n",
       "    </tr>\n",
       "    <tr>\n",
       "      <th>indicaria</th>\n",
       "      <td>0.040879</td>\n",
       "      <td>-0.066437</td>\n",
       "      <td>0.062876</td>\n",
       "      <td>-0.043724</td>\n",
       "      <td>1.000000</td>\n",
       "      <td>-0.052909</td>\n",
       "      <td>-0.058250</td>\n",
       "      <td>-0.003566</td>\n",
       "      <td>0.023978</td>\n",
       "      <td>-0.018399</td>\n",
       "      <td>0.084172</td>\n",
       "      <td>-0.020667</td>\n",
       "      <td>-0.076871</td>\n",
       "      <td>-0.073293</td>\n",
       "      <td>0.071192</td>\n",
       "      <td>0.079305</td>\n",
       "    </tr>\n",
       "    <tr>\n",
       "      <th>melhor</th>\n",
       "      <td>0.092491</td>\n",
       "      <td>0.090064</td>\n",
       "      <td>0.031719</td>\n",
       "      <td>-0.084003</td>\n",
       "      <td>-0.052909</td>\n",
       "      <td>1.000000</td>\n",
       "      <td>-0.026657</td>\n",
       "      <td>-0.071935</td>\n",
       "      <td>-0.116909</td>\n",
       "      <td>-0.036878</td>\n",
       "      <td>0.110572</td>\n",
       "      <td>-0.066008</td>\n",
       "      <td>0.018942</td>\n",
       "      <td>0.097200</td>\n",
       "      <td>-0.100968</td>\n",
       "      <td>-0.209461</td>\n",
       "    </tr>\n",
       "    <tr>\n",
       "      <th>dor</th>\n",
       "      <td>-0.014007</td>\n",
       "      <td>0.059045</td>\n",
       "      <td>-0.013811</td>\n",
       "      <td>-0.131630</td>\n",
       "      <td>-0.058250</td>\n",
       "      <td>-0.026657</td>\n",
       "      <td>1.000000</td>\n",
       "      <td>-0.187446</td>\n",
       "      <td>0.111317</td>\n",
       "      <td>0.031149</td>\n",
       "      <td>0.018289</td>\n",
       "      <td>-0.057319</td>\n",
       "      <td>0.256818</td>\n",
       "      <td>-0.093899</td>\n",
       "      <td>0.102251</td>\n",
       "      <td>0.038781</td>\n",
       "    </tr>\n",
       "    <tr>\n",
       "      <th>hoje</th>\n",
       "      <td>-0.010815</td>\n",
       "      <td>0.001988</td>\n",
       "      <td>0.051383</td>\n",
       "      <td>0.039856</td>\n",
       "      <td>-0.003566</td>\n",
       "      <td>-0.071935</td>\n",
       "      <td>-0.187446</td>\n",
       "      <td>1.000000</td>\n",
       "      <td>0.099098</td>\n",
       "      <td>0.075090</td>\n",
       "      <td>-0.078092</td>\n",
       "      <td>0.166276</td>\n",
       "      <td>0.022120</td>\n",
       "      <td>0.049556</td>\n",
       "      <td>0.004095</td>\n",
       "      <td>0.051051</td>\n",
       "    </tr>\n",
       "    <tr>\n",
       "      <th>acordo</th>\n",
       "      <td>-0.019669</td>\n",
       "      <td>0.054723</td>\n",
       "      <td>0.075287</td>\n",
       "      <td>-0.192903</td>\n",
       "      <td>0.023978</td>\n",
       "      <td>-0.116909</td>\n",
       "      <td>0.111317</td>\n",
       "      <td>0.099098</td>\n",
       "      <td>1.000000</td>\n",
       "      <td>0.060068</td>\n",
       "      <td>0.152804</td>\n",
       "      <td>0.027075</td>\n",
       "      <td>0.097163</td>\n",
       "      <td>-0.214558</td>\n",
       "      <td>0.051077</td>\n",
       "      <td>-0.049887</td>\n",
       "    </tr>\n",
       "    <tr>\n",
       "      <th>ali</th>\n",
       "      <td>0.259668</td>\n",
       "      <td>0.137967</td>\n",
       "      <td>-0.047179</td>\n",
       "      <td>0.137006</td>\n",
       "      <td>-0.018399</td>\n",
       "      <td>-0.036878</td>\n",
       "      <td>0.031149</td>\n",
       "      <td>0.075090</td>\n",
       "      <td>0.060068</td>\n",
       "      <td>1.000000</td>\n",
       "      <td>-0.094176</td>\n",
       "      <td>0.024752</td>\n",
       "      <td>0.195097</td>\n",
       "      <td>-0.115241</td>\n",
       "      <td>0.141723</td>\n",
       "      <td>0.103890</td>\n",
       "    </tr>\n",
       "    <tr>\n",
       "      <th>voce</th>\n",
       "      <td>-0.032008</td>\n",
       "      <td>0.077290</td>\n",
       "      <td>-0.031599</td>\n",
       "      <td>-0.097976</td>\n",
       "      <td>0.084172</td>\n",
       "      <td>0.110572</td>\n",
       "      <td>0.018289</td>\n",
       "      <td>-0.078092</td>\n",
       "      <td>0.152804</td>\n",
       "      <td>-0.094176</td>\n",
       "      <td>1.000000</td>\n",
       "      <td>-0.088032</td>\n",
       "      <td>-0.000549</td>\n",
       "      <td>-0.123263</td>\n",
       "      <td>0.093213</td>\n",
       "      <td>-0.083200</td>\n",
       "    </tr>\n",
       "    <tr>\n",
       "      <th>acha</th>\n",
       "      <td>-0.068594</td>\n",
       "      <td>0.044742</td>\n",
       "      <td>-0.124243</td>\n",
       "      <td>0.002215</td>\n",
       "      <td>-0.020667</td>\n",
       "      <td>-0.066008</td>\n",
       "      <td>-0.057319</td>\n",
       "      <td>0.166276</td>\n",
       "      <td>0.027075</td>\n",
       "      <td>0.024752</td>\n",
       "      <td>-0.088032</td>\n",
       "      <td>1.000000</td>\n",
       "      <td>-0.042777</td>\n",
       "      <td>-0.086878</td>\n",
       "      <td>0.118973</td>\n",
       "      <td>-0.077347</td>\n",
       "    </tr>\n",
       "    <tr>\n",
       "      <th>representa</th>\n",
       "      <td>0.048166</td>\n",
       "      <td>0.151934</td>\n",
       "      <td>0.154249</td>\n",
       "      <td>-0.080036</td>\n",
       "      <td>-0.076871</td>\n",
       "      <td>0.018942</td>\n",
       "      <td>0.256818</td>\n",
       "      <td>0.022120</td>\n",
       "      <td>0.097163</td>\n",
       "      <td>0.195097</td>\n",
       "      <td>-0.000549</td>\n",
       "      <td>-0.042777</td>\n",
       "      <td>1.000000</td>\n",
       "      <td>0.046557</td>\n",
       "      <td>-0.117302</td>\n",
       "      <td>-0.061273</td>\n",
       "    </tr>\n",
       "    <tr>\n",
       "      <th>nivel</th>\n",
       "      <td>0.004514</td>\n",
       "      <td>-0.038407</td>\n",
       "      <td>-0.039371</td>\n",
       "      <td>0.081097</td>\n",
       "      <td>-0.073293</td>\n",
       "      <td>0.097200</td>\n",
       "      <td>-0.093899</td>\n",
       "      <td>0.049556</td>\n",
       "      <td>-0.214558</td>\n",
       "      <td>-0.115241</td>\n",
       "      <td>-0.123263</td>\n",
       "      <td>-0.086878</td>\n",
       "      <td>0.046557</td>\n",
       "      <td>1.000000</td>\n",
       "      <td>-0.189221</td>\n",
       "      <td>0.035061</td>\n",
       "    </tr>\n",
       "    <tr>\n",
       "      <th>intensidade</th>\n",
       "      <td>0.192427</td>\n",
       "      <td>-0.009756</td>\n",
       "      <td>-0.055442</td>\n",
       "      <td>0.063629</td>\n",
       "      <td>0.071192</td>\n",
       "      <td>-0.100968</td>\n",
       "      <td>0.102251</td>\n",
       "      <td>0.004095</td>\n",
       "      <td>0.051077</td>\n",
       "      <td>0.141723</td>\n",
       "      <td>0.093213</td>\n",
       "      <td>0.118973</td>\n",
       "      <td>-0.117302</td>\n",
       "      <td>-0.189221</td>\n",
       "      <td>1.000000</td>\n",
       "      <td>0.223188</td>\n",
       "    </tr>\n",
       "    <tr>\n",
       "      <th>atualmente</th>\n",
       "      <td>0.081342</td>\n",
       "      <td>0.089586</td>\n",
       "      <td>0.024099</td>\n",
       "      <td>0.228253</td>\n",
       "      <td>0.079305</td>\n",
       "      <td>-0.209461</td>\n",
       "      <td>0.038781</td>\n",
       "      <td>0.051051</td>\n",
       "      <td>-0.049887</td>\n",
       "      <td>0.103890</td>\n",
       "      <td>-0.083200</td>\n",
       "      <td>-0.077347</td>\n",
       "      <td>-0.061273</td>\n",
       "      <td>0.035061</td>\n",
       "      <td>0.223188</td>\n",
       "      <td>1.000000</td>\n",
       "    </tr>\n",
       "  </tbody>\n",
       "</table>\n",
       "</div>"
      ],
      "text/plain": [
       "              olhando    escala    parede     valor  indicaria    melhor  \\\n",
       "olhando      1.000000  0.066520  0.059545  0.059261   0.040879  0.092491   \n",
       "escala       0.066520  1.000000 -0.122987 -0.058753  -0.066437  0.090064   \n",
       "parede       0.059545 -0.122987  1.000000 -0.091892   0.062876  0.031719   \n",
       "valor        0.059261 -0.058753 -0.091892  1.000000  -0.043724 -0.084003   \n",
       "indicaria    0.040879 -0.066437  0.062876 -0.043724   1.000000 -0.052909   \n",
       "melhor       0.092491  0.090064  0.031719 -0.084003  -0.052909  1.000000   \n",
       "dor         -0.014007  0.059045 -0.013811 -0.131630  -0.058250 -0.026657   \n",
       "hoje        -0.010815  0.001988  0.051383  0.039856  -0.003566 -0.071935   \n",
       "acordo      -0.019669  0.054723  0.075287 -0.192903   0.023978 -0.116909   \n",
       "ali          0.259668  0.137967 -0.047179  0.137006  -0.018399 -0.036878   \n",
       "voce        -0.032008  0.077290 -0.031599 -0.097976   0.084172  0.110572   \n",
       "acha        -0.068594  0.044742 -0.124243  0.002215  -0.020667 -0.066008   \n",
       "representa   0.048166  0.151934  0.154249 -0.080036  -0.076871  0.018942   \n",
       "nivel        0.004514 -0.038407 -0.039371  0.081097  -0.073293  0.097200   \n",
       "intensidade  0.192427 -0.009756 -0.055442  0.063629   0.071192 -0.100968   \n",
       "atualmente   0.081342  0.089586  0.024099  0.228253   0.079305 -0.209461   \n",
       "\n",
       "                  dor      hoje    acordo       ali      voce      acha  \\\n",
       "olhando     -0.014007 -0.010815 -0.019669  0.259668 -0.032008 -0.068594   \n",
       "escala       0.059045  0.001988  0.054723  0.137967  0.077290  0.044742   \n",
       "parede      -0.013811  0.051383  0.075287 -0.047179 -0.031599 -0.124243   \n",
       "valor       -0.131630  0.039856 -0.192903  0.137006 -0.097976  0.002215   \n",
       "indicaria   -0.058250 -0.003566  0.023978 -0.018399  0.084172 -0.020667   \n",
       "melhor      -0.026657 -0.071935 -0.116909 -0.036878  0.110572 -0.066008   \n",
       "dor          1.000000 -0.187446  0.111317  0.031149  0.018289 -0.057319   \n",
       "hoje        -0.187446  1.000000  0.099098  0.075090 -0.078092  0.166276   \n",
       "acordo       0.111317  0.099098  1.000000  0.060068  0.152804  0.027075   \n",
       "ali          0.031149  0.075090  0.060068  1.000000 -0.094176  0.024752   \n",
       "voce         0.018289 -0.078092  0.152804 -0.094176  1.000000 -0.088032   \n",
       "acha        -0.057319  0.166276  0.027075  0.024752 -0.088032  1.000000   \n",
       "representa   0.256818  0.022120  0.097163  0.195097 -0.000549 -0.042777   \n",
       "nivel       -0.093899  0.049556 -0.214558 -0.115241 -0.123263 -0.086878   \n",
       "intensidade  0.102251  0.004095  0.051077  0.141723  0.093213  0.118973   \n",
       "atualmente   0.038781  0.051051 -0.049887  0.103890 -0.083200 -0.077347   \n",
       "\n",
       "             representa     nivel  intensidade  atualmente  \n",
       "olhando        0.048166  0.004514     0.192427    0.081342  \n",
       "escala         0.151934 -0.038407    -0.009756    0.089586  \n",
       "parede         0.154249 -0.039371    -0.055442    0.024099  \n",
       "valor         -0.080036  0.081097     0.063629    0.228253  \n",
       "indicaria     -0.076871 -0.073293     0.071192    0.079305  \n",
       "melhor         0.018942  0.097200    -0.100968   -0.209461  \n",
       "dor            0.256818 -0.093899     0.102251    0.038781  \n",
       "hoje           0.022120  0.049556     0.004095    0.051051  \n",
       "acordo         0.097163 -0.214558     0.051077   -0.049887  \n",
       "ali            0.195097 -0.115241     0.141723    0.103890  \n",
       "voce          -0.000549 -0.123263     0.093213   -0.083200  \n",
       "acha          -0.042777 -0.086878     0.118973   -0.077347  \n",
       "representa     1.000000  0.046557    -0.117302   -0.061273  \n",
       "nivel          0.046557  1.000000    -0.189221    0.035061  \n",
       "intensidade   -0.117302 -0.189221     1.000000    0.223188  \n",
       "atualmente    -0.061273  0.035061     0.223188    1.000000  "
      ]
     },
     "execution_count": 26,
     "metadata": {},
     "output_type": "execute_result"
    }
   ],
   "source": [
    "df"
   ]
  },
  {
   "cell_type": "code",
   "execution_count": 27,
   "id": "997cbac8",
   "metadata": {
    "ExecuteTime": {
     "end_time": "2023-03-12T16:29:57.404012Z",
     "start_time": "2023-03-12T16:29:57.011700Z"
    }
   },
   "outputs": [
    {
     "data": {
      "image/png": "[encoded data removed]",
      "text/plain": [
       "<Figure size 1008x576 with 2 Axes>"
      ]
     },
     "metadata": {
      "needs_background": "light"
     },
     "output_type": "display_data"
    }
   ],
   "source": [
    "f, ax=plt.subplots(1, 1, figsize=(14,8))\n",
    "cmap = plt.cm.Blues\n",
    "mask = np.zeros_like(df)\n",
    "mask[np.triu_indices_from(mask)] = True\n",
    "sns.heatmap(df, cmap=cmap, mask=mask, square=True, ax=ax)\n",
    "_=plt.yticks(rotation=90)\n",
    "plt.xlabel('Words')\n",
    "_=plt.xticks(rotation=45)\n",
    "_=plt.title(\"Similarities between words\")"
   ]
  },
  {
   "cell_type": "markdown",
   "id": "e7e08b67",
   "metadata": {},
   "source": [
    "### Score a target sentence to source sentences"
   ]
  },
  {
   "cell_type": "code",
   "execution_count": 28,
   "id": "7e12e9a0",
   "metadata": {
    "ExecuteTime": {
     "end_time": "2023-03-12T16:29:58.444542Z",
     "start_time": "2023-03-12T16:29:58.440941Z"
    }
   },
   "outputs": [],
   "source": [
    "#target_sentence = \"You'd love to drink a cool refreshing Coke\"\n",
    "target_sentence = [\"Olhando para a escala na parede, qual valor indicaria melhor a sua dor hoje?\",\n",
    "                  \"De acordo com a escala de dor ali na parede\",\n",
    "                  'qual valor você acha que mais representa a sua dor?',\n",
    "                                'De 0 a 10, qual o nível de intensidade da sua dor atualmente?',\n",
    "                                'Qual a intensidade da sua dor?']"
   ]
  },
  {
   "cell_type": "code",
   "execution_count": 29,
   "id": "a2d60133",
   "metadata": {
    "ExecuteTime": {
     "end_time": "2023-03-12T16:29:59.131215Z",
     "start_time": "2023-03-12T16:29:59.106476Z"
    }
   },
   "outputs": [
    {
     "name": "stdout",
     "output_type": "stream",
     "text": [
      "Target: ['Olhando para a escala na parede, qual valor indicaria melhor a sua dor hoje?', 'De acordo com a escala de dor ali na parede', 'qual valor você acha que mais representa a sua dor?', 'De 0 a 10, qual o nível de intensidade da sua dor atualmente?', 'Qual a intensidade da sua dor?']\n",
      "[(0.4966461658477783, 'escala'), (0.4406518042087555, 'dor'), (0.43866732716560364, 'melhor'), (0.367131769657135, 'indicaria'), (0.31794899702072144, 'valor'), (0.14009332656860352, 'representa'), (0.12149690836668015, 'ali'), (0.11629859358072281, 'olhando'), (0.10999873280525208, 'atualmente'), (0.09262657165527344, 'voce'), (0.06411342322826385, 'intensidade'), (-0.017160601913928986, 'nivel'), (-0.047951534390449524, 'acha'), (-0.05183010920882225, 'acordo'), (-0.06523484736680984, 'parede'), (-0.1124240830540657, 'hoje')]\n",
      "Target: ['Olhando para a escala na parede, qual valor indicaria melhor a sua dor hoje?', 'De acordo com a escala de dor ali na parede', 'qual valor você acha que mais representa a sua dor?', 'De 0 a 10, qual o nível de intensidade da sua dor atualmente?', 'Qual a intensidade da sua dor?']\n",
      "[(0.5491794943809509, 'acordo'), (0.5141624212265015, 'dor'), (0.4633283317089081, 'ali'), (0.4581402838230133, 'escala'), (0.3984496295452118, 'parede'), (0.35940617322921753, 'representa'), (0.14007137715816498, 'olhando'), (0.09282176941633224, 'intensidade'), (0.0836644098162651, 'atualmente'), (0.05353160575032234, 'voce'), (0.012537578120827675, 'hoje'), (-0.02197638899087906, 'indicaria'), (-0.024335721507668495, 'melhor'), (-0.04052956774830818, 'acha'), (-0.15024296939373016, 'valor'), (-0.2093929797410965, 'nivel')]\n",
      "Target: ['Olhando para a escala na parede, qual valor indicaria melhor a sua dor hoje?', 'De acordo com a escala de dor ali na parede', 'qual valor você acha que mais representa a sua dor?', 'De 0 a 10, qual o nível de intensidade da sua dor atualmente?', 'Qual a intensidade da sua dor?']\n",
      "[(0.5732937455177307, 'acha'), (0.5564025044441223, 'representa'), (0.5301613807678223, 'valor'), (0.21676155924797058, 'ali'), (0.13656263053417206, 'hoje'), (0.08824105560779572, 'escala'), (0.05081876367330551, 'dor'), (0.04736299440264702, 'atualmente'), (0.0343923382461071, 'intensidade'), (0.024189792573451996, 'nivel'), (0.02350546047091484, 'olhando'), (-0.030698681250214577, 'parede'), (-0.034445829689502716, 'acordo'), (-0.07627803087234497, 'melhor'), (-0.08600197732448578, 'indicaria'), (-0.10980723053216934, 'voce')]\n",
      "Target: ['Olhando para a escala na parede, qual valor indicaria melhor a sua dor hoje?', 'De acordo com a escala de dor ali na parede', 'qual valor você acha que mais representa a sua dor?', 'De 0 a 10, qual o nível de intensidade da sua dor atualmente?', 'Qual a intensidade da sua dor?']\n",
      "[(0.7514828443527222, 'dor'), (0.7331341505050659, 'intensidade'), (0.17453846335411072, 'atualmente'), (0.11804694682359695, 'olhando'), (0.1152900829911232, 'ali'), (0.10997936129570007, 'acordo'), (0.09777995944023132, 'representa'), (0.07432471960783005, 'voce'), (0.03971914201974869, 'acha'), (0.03389681130647659, 'escala'), (0.007393233943730593, 'indicaria'), (-0.04621274396777153, 'parede'), (-0.047790125012397766, 'valor'), (-0.0851888656616211, 'melhor'), (-0.12543493509292603, 'hoje'), (-0.18969275057315826, 'nivel')]\n",
      "Target: ['Olhando para a escala na parede, qual valor indicaria melhor a sua dor hoje?', 'De acordo com a escala de dor ali na parede', 'qual valor você acha que mais representa a sua dor?', 'De 0 a 10, qual o nível de intensidade da sua dor atualmente?', 'Qual a intensidade da sua dor?']\n",
      "[(1.0, 'intensidade'), (0.22318828105926514, 'atualmente'), (0.19242696464061737, 'olhando'), (0.1417229026556015, 'ali'), (0.1189732700586319, 'acha'), (0.10225056856870651, 'dor'), (0.09321285039186478, 'voce'), (0.07119223475456238, 'indicaria'), (0.06362919509410858, 'valor'), (0.05107699707150459, 'acordo'), (0.0040952907875180244, 'hoje'), (-0.009755673818290234, 'escala'), (-0.05544159188866615, 'parede'), (-0.1009676530957222, 'melhor'), (-0.11730162054300308, 'representa'), (-0.1892213225364685, 'nivel')]\n"
     ]
    },
    {
     "name": "stderr",
     "output_type": "stream",
     "text": [
      "<ipython-input-29-589428ef2963>:10: DeprecationWarning: Call to deprecated `n_similarity` (Method will be removed in 4.0.0, use self.wv.n_similarity() instead).\n",
      "  sim = model_wc.n_similarity(target_sentence_words, sentence_words)\n"
     ]
    }
   ],
   "source": [
    "# use n_similarity to compute a cosine similarity (should be reasonably robust)\n",
    "\n",
    "for i in target_sentence:\n",
    "    sentences = [x for x in model_wc.wv.vocab]\n",
    "    sentences_similarity = np.zeros(len(sentences))\n",
    "\n",
    "    target_sentence_words = [w for w in i.split() if w in w2v_vocab]\n",
    "    for idx, sentence in enumerate(sentences):\n",
    "        sentence_words = [w for w in sentence.split() if w in w2v_vocab]\n",
    "        sim = model_wc.n_similarity(target_sentence_words, sentence_words)\n",
    "        sentences_similarity[idx] = sim\n",
    "\n",
    "    result = list(zip(sentences_similarity, sentences))\n",
    "    result.sort(key=lambda item:item[0], reverse=True)\n",
    "    print(\"Target:\", target_sentence)\n",
    "    print(result)"
   ]
  },
  {
   "cell_type": "markdown",
   "id": "0bef9cc2",
   "metadata": {},
   "source": [
    "### Test some word relationships"
   ]
  },
  {
   "cell_type": "code",
   "execution_count": 30,
   "id": "249b3015",
   "metadata": {
    "ExecuteTime": {
     "end_time": "2023-03-12T16:30:00.489270Z",
     "start_time": "2023-03-12T16:30:00.481027Z"
    }
   },
   "outputs": [
    {
     "name": "stderr",
     "output_type": "stream",
     "text": [
      "<ipython-input-30-60883f20d73e>:1: DeprecationWarning: Call to deprecated `most_similar` (Method will be removed in 4.0.0, use self.wv.most_similar() instead).\n",
      "  model_wc.most_similar(positive=[\"acordo\", \"melhor\"], negative=['dor', 'intensidade'])\n"
     ]
    },
    {
     "data": {
      "text/plain": [
       "[('hoje', 0.10658234357833862),\n",
       " ('parede', 0.08923882991075516),\n",
       " ('nivel', 0.08392475545406342),\n",
       " ('voce', 0.07689313590526581),\n",
       " ('escala', 0.048350244760513306),\n",
       " ('representa', -0.011853128671646118),\n",
       " ('indicaria', -0.02120007574558258),\n",
       " ('acha', -0.05092678964138031),\n",
       " ('olhando', -0.05346353352069855),\n",
       " ('ali', -0.0757831335067749)]"
      ]
     },
     "execution_count": 30,
     "metadata": {},
     "output_type": "execute_result"
    }
   ],
   "source": [
    "model_wc.most_similar(positive=[\"acordo\", \"melhor\"], negative=['dor', 'intensidade'])"
   ]
  },
  {
   "cell_type": "markdown",
   "id": "cbf9f520",
   "metadata": {},
   "source": [
    "### Project a set of words (via their 30 dimensional vector) using T-SNE"
   ]
  },
  {
   "cell_type": "code",
   "execution_count": 31,
   "id": "8b354eb4",
   "metadata": {
    "ExecuteTime": {
     "end_time": "2023-03-12T16:30:02.532384Z",
     "start_time": "2023-03-12T16:30:01.991674Z"
    }
   },
   "outputs": [
    {
     "name": "stderr",
     "output_type": "stream",
     "text": [
      "<ipython-input-31-da48ab1e3c05>:7: DeprecationWarning: Call to deprecated `most_similar` (Method will be removed in 4.0.0, use self.wv.most_similar() instead).\n",
      "  for word, _ in model_wc.most_similar(woi):\n",
      "<ipython-input-31-da48ab1e3c05>:14: DeprecationWarning: Call to deprecated `__getitem__` (Method will be removed in 4.0.0, use self.wv.__getitem__() instead).\n",
      "  vectors.append(model_wc[word])\n",
      "Exception ignored on calling ctypes callback function: <function _ThreadpoolInfo._find_modules_with_dl_iterate_phdr.<locals>.match_module_callback at 0x7f55eca90040>\n",
      "Traceback (most recent call last):\n",
      "  File \"/opt/conda/lib/python3.8/site-packages/threadpoolctl.py\", line 400, in match_module_callback\n",
      "    self._make_module_from_path(filepath)\n",
      "  File \"/opt/conda/lib/python3.8/site-packages/threadpoolctl.py\", line 515, in _make_module_from_path\n",
      "    module = module_class(filepath, prefix, user_api, internal_api)\n",
      "  File \"/opt/conda/lib/python3.8/site-packages/threadpoolctl.py\", line 606, in __init__\n",
      "    self.version = self.get_version()\n",
      "  File \"/opt/conda/lib/python3.8/site-packages/threadpoolctl.py\", line 646, in get_version\n",
      "    config = get_config().split()\n",
      "AttributeError: 'NoneType' object has no attribute 'split'\n",
      "<ipython-input-31-da48ab1e3c05>:27: DeprecationWarning: Call to deprecated `similarity` (Method will be removed in 4.0.0, use self.wv.similarity() instead).\n",
      "  similarity = min(max(0, model_wc.similarity(target_word, woi)), 1.0)\n",
      "<ipython-input-31-da48ab1e3c05>:38: MatplotlibDeprecationWarning: The 's' parameter of annotate() has been renamed 'text' since Matplotlib 3.3; support for the old name will be dropped two minor releases later.\n",
      "  plt.annotate(s=label, xy=(x, y), color=color)\n"
     ]
    },
    {
     "data": {
      "text/plain": [
       "Text(0.5, 1.0, \"Word similarity (T-SNE) using vectors from 16 words\\nColoured by similarity to 'dor'\")"
      ]
     },
     "execution_count": 31,
     "metadata": {},
     "output_type": "execute_result"
    },
    {
     "data": {
      "image/png": "[encoded data removed]",
      "text/plain": [
       "<Figure size 864x576 with 1 Axes>"
      ]
     },
     "metadata": {
      "needs_background": "light"
     },
     "output_type": "display_data"
    }
   ],
   "source": [
    "from sklearn.manifold import TSNE\n",
    "\n",
    "raw_words_of_interest = [x for x in model_wc.wv.vocab]\n",
    "\n",
    "words_of_interest = []\n",
    "for woi in raw_words_of_interest:\n",
    "    for word, _ in model_wc.most_similar(woi):\n",
    "        words_of_interest.append(word)\n",
    "\n",
    "words_of_interest = list(set(words_of_interest))\n",
    "\n",
    "vectors = []\n",
    "for word in set(words_of_interest):\n",
    "    vectors.append(model_wc[word])\n",
    "    \n",
    "vectors = np.vstack(vectors) # turn vectors into a 2D array <words x 300dim>\n",
    "\n",
    "model = TSNE(n_components=2, perplexity=10, random_state=0)\n",
    "X_tsne = model.fit_transform(vectors)\n",
    "df_after_tsne = pd.DataFrame.from_records(X_tsne, columns=['x', 'y'])\n",
    "df_after_tsne['labels'] = words_of_interest\n",
    "\n",
    "# calculate similarity from a target word to all words, to use as our colour\n",
    "target_word = \"dor\"\n",
    "similarities = []\n",
    "for woi in words_of_interest:\n",
    "    similarity = min(max(0, model_wc.similarity(target_word, woi)), 1.0)\n",
    "    similarities.append(similarity)\n",
    "\n",
    "# plot the T-SNE layout for words, darker words means more similar to our target\n",
    "plt.figure(figsize=(12,8))\n",
    "plt.xlim((min(X_tsne[:,0]), max(X_tsne[:,0])))\n",
    "plt.ylim((min(X_tsne[:,1]), max(X_tsne[:,1])))\n",
    "for idx in range(X_tsne.shape[0]):\n",
    "    x, y = X_tsne[idx]\n",
    "    label = words_of_interest[idx]\n",
    "    color=str(min(0.6, 1.0-similarities[idx])) # convert to string \"0.0\"..\"1.0\" as greyscale for mpl\n",
    "    plt.annotate(s=label, xy=(x, y), color=color)\n",
    "    #plt.annotate(s=label, xy=(x, y), weight=int(similarities[idx]*1000)) # use weight\n",
    "plt.tight_layout()\n",
    "plt.title(\"Word similarity (T-SNE) using vectors from {} words\\nColoured by similarity to '{}'\".format(len(words_of_interest), target_word))"
   ]
  },
  {
   "cell_type": "code",
   "execution_count": null,
   "id": "32e79ec3",
   "metadata": {},
   "outputs": [],
   "source": []
  }
 ],
 "metadata": {
  "kernelspec": {
   "display_name": "Python 3",
   "language": "python",
   "name": "python3"
  },
  "language_info": {
   "codemirror_mode": {
    "name": "ipython",
    "version": 3
   },
   "file_extension": ".py",
   "mimetype": "text/x-python",
   "name": "python",
   "nbconvert_exporter": "python",
   "pygments_lexer": "ipython3",
   "version": "3.8.8"
  },
  "toc": {
   "base_numbering": 1,
   "nav_menu": {},
   "number_sections": true,
   "sideBar": true,
   "skip_h1_title": false,
   "title_cell": "Table of Contents",
   "title_sidebar": "Contents",
   "toc_cell": false,
   "toc_position": {},
   "toc_section_display": true,
   "toc_window_display": false
  }
 },
 "nbformat": 4,
 "nbformat_minor": 5
}
