{
 "cells": [
  {
   "cell_type": "code",
   "execution_count": null,
   "id": "8ee17e31",
   "metadata": {},
   "outputs": [],
   "source": [
    "! python --version"
   ]
  },
  {
   "cell_type": "markdown",
   "id": "8bddf659",
   "metadata": {},
   "source": [
    "### Import libs"
   ]
  },
  {
   "cell_type": "code",
   "execution_count": 1,
   "id": "8d655928",
   "metadata": {},
   "outputs": [
    {
     "name": "stderr",
     "output_type": "stream",
     "text": [
      "[nltk_data] Downloading package stopwords to /home/jovyan/nltk_data...\n",
      "[nltk_data]   Package stopwords is already up-to-date!\n",
      "[nltk_data] Downloading package punkt to /home/jovyan/nltk_data...\n",
      "[nltk_data]   Package punkt is already up-to-date!\n"
     ]
    }
   ],
   "source": [
    "import gensim\n",
    "import gensim.corpora as corpora\n",
    "from gensim.utils import simple_preprocess\n",
    "from gensim.models import word2vec\n",
    "import multiprocessing\n",
    "import sklearn\n",
    "import spacy\n",
    "\n",
    "import pandas as pd\n",
    "import random\n",
    "import numpy as np\n",
    "import unicodedata\n",
    "import nltk\n",
    "import re\n",
    "from nltk.corpus import stopwords\n",
    "nltk.download('stopwords')\n",
    "nltk.download('punkt')\n",
    "import logging\n",
    "\n",
    "import matplotlib.pyplot as plt\n",
    "import seaborn as sns\n",
    "sns.set_style('whitegrid')\n",
    "%matplotlib inline\n",
    "\n",
    "from sklearn.model_selection import StratifiedShuffleSplit\n",
    "pd.set_option('display.max_rows', None)\n",
    "pd.set_option('display.max_colwidth', None)"
   ]
  },
  {
   "cell_type": "code",
   "execution_count": 2,
   "id": "603d5c25",
   "metadata": {},
   "outputs": [
    {
     "name": "stdout",
     "output_type": "stream",
     "text": [
      "3.8.0\n"
     ]
    }
   ],
   "source": [
    "print(gensim.__version__)"
   ]
  },
  {
   "cell_type": "markdown",
   "id": "a18f63f6",
   "metadata": {},
   "source": [
    "### Functions to Clean Text"
   ]
  },
  {
   "cell_type": "code",
   "execution_count": 3,
   "id": "b1e7b7fd",
   "metadata": {},
   "outputs": [],
   "source": [
    "stop_words = stopwords.words('portuguese')\n",
    "stop_words.pop(stop_words.index('não'))\n",
    "new_stopwords = ('bom', 'dia', 'ola', 'eu')\n",
    "for i in new_stopwords:\n",
    "    stop_words.append(i)\n",
    "    \n",
    "nlp = spacy.load(\"pt_core_news_sm\")\n",
    "\n",
    "def anonymizer(text,stop_words):\n",
    "    text = unicodedata.normalize('NFD', text).encode('ascii', 'ignore').decode('utf-8')\n",
    "    text = re.sub(' +', ' ', str(text).lower())\n",
    "    text = re.sub('((http?|ftp|smtp):\\/\\/)?(www.)?[a-z0-9]+\\.[a-z]+(\\/[a-zA-Z0-9#]+\\/?)*', ' ', str(text).lower())\n",
    "    text = re.sub('\\S+@\\S+', ' ', str(text).lower())\n",
    "    text = re.sub('@\\S+', ' ', str(text).lower())\n",
    "    text = re.sub('\\d', ' ', str(text).lower())\n",
    "    text = re.sub('https:\\S+', ' ', str(text).lower())\n",
    "    text = re.sub('[^a-z0-9 ]+', ' ', str(text).lower())\n",
    "    text = nltk.tokenize.word_tokenize(text, language='portuguese')\n",
    "    return ' '.join([w for w in text if not w in stop_words])"
   ]
  },
  {
   "cell_type": "markdown",
   "id": "57f855b1",
   "metadata": {},
   "source": [
    "### Analise de score do texto"
   ]
  },
  {
   "cell_type": "markdown",
   "id": "8b388077",
   "metadata": {},
   "source": [
    "### Converter as frases em um dataset pandas"
   ]
  },
  {
   "cell_type": "code",
   "execution_count": 4,
   "id": "fcd3c84a",
   "metadata": {},
   "outputs": [],
   "source": [
    "dados = {'indices_id': ['0','1','2','3'],\n",
    "         'Frase original': ['Olhando para a escala na parede, qual valor indicaria melhor a sua dor hoje?',\n",
    "                           'Olhando para a escala na parede, qual valor indicaria melhor a sua dor hoje?',\n",
    "                           'Olhando para a escala na parede, qual valor indicaria melhor a sua dor hoje?',\n",
    "                           'Olhando para a escala na parede, qual valor indicaria melhor a sua dor hoje?'],\n",
    "         'Frases comparativas': ['De acordo com a escala de dor ali na parede', \n",
    "                                'qual valor você acha que mais representa a sua dor?',\n",
    "                                'De 0 a 10, qual o nível de intensidade da sua dor atualmente?',\n",
    "                                'Qual a intensidade da sua dor?'],\n",
    "         }"
   ]
  },
  {
   "cell_type": "code",
   "execution_count": 5,
   "id": "cc03315d",
   "metadata": {},
   "outputs": [],
   "source": [
    "dataset = pd.DataFrame(dados)"
   ]
  },
  {
   "cell_type": "code",
   "execution_count": 6,
   "id": "b88957ae",
   "metadata": {},
   "outputs": [
    {
     "data": {
      "text/html": [
       "<div>\n",
       "<style scoped>\n",
       "    .dataframe tbody tr th:only-of-type {\n",
       "        vertical-align: middle;\n",
       "    }\n",
       "\n",
       "    .dataframe tbody tr th {\n",
       "        vertical-align: top;\n",
       "    }\n",
       "\n",
       "    .dataframe thead th {\n",
       "        text-align: right;\n",
       "    }\n",
       "</style>\n",
       "<table border=\"1\" class=\"dataframe\">\n",
       "  <thead>\n",
       "    <tr style=\"text-align: right;\">\n",
       "      <th></th>\n",
       "      <th>indices_id</th>\n",
       "      <th>Frase original</th>\n",
       "      <th>Frases comparativas</th>\n",
       "    </tr>\n",
       "  </thead>\n",
       "  <tbody>\n",
       "    <tr>\n",
       "      <th>0</th>\n",
       "      <td>0</td>\n",
       "      <td>Olhando para a escala na parede, qual valor indicaria melhor a sua dor hoje?</td>\n",
       "      <td>De acordo com a escala de dor ali na parede</td>\n",
       "    </tr>\n",
       "    <tr>\n",
       "      <th>1</th>\n",
       "      <td>1</td>\n",
       "      <td>Olhando para a escala na parede, qual valor indicaria melhor a sua dor hoje?</td>\n",
       "      <td>qual valor você acha que mais representa a sua dor?</td>\n",
       "    </tr>\n",
       "    <tr>\n",
       "      <th>2</th>\n",
       "      <td>2</td>\n",
       "      <td>Olhando para a escala na parede, qual valor indicaria melhor a sua dor hoje?</td>\n",
       "      <td>De 0 a 10, qual o nível de intensidade da sua dor atualmente?</td>\n",
       "    </tr>\n",
       "    <tr>\n",
       "      <th>3</th>\n",
       "      <td>3</td>\n",
       "      <td>Olhando para a escala na parede, qual valor indicaria melhor a sua dor hoje?</td>\n",
       "      <td>Qual a intensidade da sua dor?</td>\n",
       "    </tr>\n",
       "  </tbody>\n",
       "</table>\n",
       "</div>"
      ],
      "text/plain": [
       "  indices_id  \\\n",
       "0          0   \n",
       "1          1   \n",
       "2          2   \n",
       "3          3   \n",
       "\n",
       "                                                                 Frase original  \\\n",
       "0  Olhando para a escala na parede, qual valor indicaria melhor a sua dor hoje?   \n",
       "1  Olhando para a escala na parede, qual valor indicaria melhor a sua dor hoje?   \n",
       "2  Olhando para a escala na parede, qual valor indicaria melhor a sua dor hoje?   \n",
       "3  Olhando para a escala na parede, qual valor indicaria melhor a sua dor hoje?   \n",
       "\n",
       "                                             Frases comparativas  \n",
       "0                    De acordo com a escala de dor ali na parede  \n",
       "1            qual valor você acha que mais representa a sua dor?  \n",
       "2  De 0 a 10, qual o nível de intensidade da sua dor atualmente?  \n",
       "3                                 Qual a intensidade da sua dor?  "
      ]
     },
     "execution_count": 6,
     "metadata": {},
     "output_type": "execute_result"
    }
   ],
   "source": [
    "dataset"
   ]
  },
  {
   "cell_type": "code",
   "execution_count": 7,
   "id": "2808f87f",
   "metadata": {},
   "outputs": [
    {
     "data": {
      "text/plain": [
       "(4, 3)"
      ]
     },
     "execution_count": 7,
     "metadata": {},
     "output_type": "execute_result"
    }
   ],
   "source": [
    "dataset.shape"
   ]
  },
  {
   "cell_type": "code",
   "execution_count": 8,
   "id": "07967fc3",
   "metadata": {},
   "outputs": [],
   "source": [
    "dataset['frase_original_clean'] = dataset['Frase original'].apply(lambda x: anonymizer(x, stop_words))\n",
    "dataset['Frases_comparativas_clean'] = dataset['Frases comparativas'].apply(lambda x: anonymizer(x, stop_words))"
   ]
  },
  {
   "cell_type": "markdown",
   "id": "5a3b9f9c",
   "metadata": {},
   "source": [
    "### Comparative original column with column clean"
   ]
  },
  {
   "cell_type": "code",
   "execution_count": 9,
   "id": "a2353bab",
   "metadata": {},
   "outputs": [
    {
     "data": {
      "text/html": [
       "<div>\n",
       "<style scoped>\n",
       "    .dataframe tbody tr th:only-of-type {\n",
       "        vertical-align: middle;\n",
       "    }\n",
       "\n",
       "    .dataframe tbody tr th {\n",
       "        vertical-align: top;\n",
       "    }\n",
       "\n",
       "    .dataframe thead th {\n",
       "        text-align: right;\n",
       "    }\n",
       "</style>\n",
       "<table border=\"1\" class=\"dataframe\">\n",
       "  <thead>\n",
       "    <tr style=\"text-align: right;\">\n",
       "      <th></th>\n",
       "      <th>Frase original</th>\n",
       "      <th>frase_original_clean</th>\n",
       "      <th>Frases comparativas</th>\n",
       "      <th>Frases_comparativas_clean</th>\n",
       "    </tr>\n",
       "  </thead>\n",
       "  <tbody>\n",
       "    <tr>\n",
       "      <th>0</th>\n",
       "      <td>Olhando para a escala na parede, qual valor indicaria melhor a sua dor hoje?</td>\n",
       "      <td>olhando escala parede valor indicaria melhor dor hoje</td>\n",
       "      <td>De acordo com a escala de dor ali na parede</td>\n",
       "      <td>acordo escala dor ali parede</td>\n",
       "    </tr>\n",
       "    <tr>\n",
       "      <th>1</th>\n",
       "      <td>Olhando para a escala na parede, qual valor indicaria melhor a sua dor hoje?</td>\n",
       "      <td>olhando escala parede valor indicaria melhor dor hoje</td>\n",
       "      <td>qual valor você acha que mais representa a sua dor?</td>\n",
       "      <td>valor voce acha representa dor</td>\n",
       "    </tr>\n",
       "    <tr>\n",
       "      <th>2</th>\n",
       "      <td>Olhando para a escala na parede, qual valor indicaria melhor a sua dor hoje?</td>\n",
       "      <td>olhando escala parede valor indicaria melhor dor hoje</td>\n",
       "      <td>De 0 a 10, qual o nível de intensidade da sua dor atualmente?</td>\n",
       "      <td>nivel intensidade dor atualmente</td>\n",
       "    </tr>\n",
       "    <tr>\n",
       "      <th>3</th>\n",
       "      <td>Olhando para a escala na parede, qual valor indicaria melhor a sua dor hoje?</td>\n",
       "      <td>olhando escala parede valor indicaria melhor dor hoje</td>\n",
       "      <td>Qual a intensidade da sua dor?</td>\n",
       "      <td>intensidade dor</td>\n",
       "    </tr>\n",
       "  </tbody>\n",
       "</table>\n",
       "</div>"
      ],
      "text/plain": [
       "                                                                 Frase original  \\\n",
       "0  Olhando para a escala na parede, qual valor indicaria melhor a sua dor hoje?   \n",
       "1  Olhando para a escala na parede, qual valor indicaria melhor a sua dor hoje?   \n",
       "2  Olhando para a escala na parede, qual valor indicaria melhor a sua dor hoje?   \n",
       "3  Olhando para a escala na parede, qual valor indicaria melhor a sua dor hoje?   \n",
       "\n",
       "                                    frase_original_clean  \\\n",
       "0  olhando escala parede valor indicaria melhor dor hoje   \n",
       "1  olhando escala parede valor indicaria melhor dor hoje   \n",
       "2  olhando escala parede valor indicaria melhor dor hoje   \n",
       "3  olhando escala parede valor indicaria melhor dor hoje   \n",
       "\n",
       "                                             Frases comparativas  \\\n",
       "0                    De acordo com a escala de dor ali na parede   \n",
       "1            qual valor você acha que mais representa a sua dor?   \n",
       "2  De 0 a 10, qual o nível de intensidade da sua dor atualmente?   \n",
       "3                                 Qual a intensidade da sua dor?   \n",
       "\n",
       "          Frases_comparativas_clean  \n",
       "0      acordo escala dor ali parede  \n",
       "1    valor voce acha representa dor  \n",
       "2  nivel intensidade dor atualmente  \n",
       "3                   intensidade dor  "
      ]
     },
     "execution_count": 9,
     "metadata": {},
     "output_type": "execute_result"
    }
   ],
   "source": [
    "dataset[['Frase original','frase_original_clean', 'Frases comparativas','Frases_comparativas_clean']]"
   ]
  },
  {
   "cell_type": "markdown",
   "id": "d8e1fd19",
   "metadata": {},
   "source": [
    "### Creating tokens and training model Word2Vec"
   ]
  },
  {
   "cell_type": "code",
   "execution_count": 10,
   "id": "761bb0d0",
   "metadata": {},
   "outputs": [],
   "source": [
    "def build_corpus(data):\n",
    "    corpus = []\n",
    "    for sentence in data:\n",
    "        word_list = sentence.split(\" \")\n",
    "        corpus.append(word_list)\n",
    "    return corpus\n",
    "\n",
    "def createModel_word2vec(text,size=None,min_count=None,window=None):\n",
    "    model = gensim.models.word2vec.Word2Vec(text,min_count=min_count,window=window,workers=10)\n",
    "    return model"
   ]
  },
  {
   "cell_type": "code",
   "execution_count": 11,
   "id": "fe15ec9f",
   "metadata": {},
   "outputs": [],
   "source": [
    "dataset[\"Frases_comparativas_clean_wc\"] = build_corpus(dataset['Frases_comparativas_clean'])\n",
    "dataset[\"frase_original_clean_wc\"] = build_corpus(dataset['frase_original_clean'])"
   ]
  },
  {
   "cell_type": "code",
   "execution_count": 12,
   "id": "0c54d67f",
   "metadata": {},
   "outputs": [
    {
     "data": {
      "text/html": [
       "<div>\n",
       "<style scoped>\n",
       "    .dataframe tbody tr th:only-of-type {\n",
       "        vertical-align: middle;\n",
       "    }\n",
       "\n",
       "    .dataframe tbody tr th {\n",
       "        vertical-align: top;\n",
       "    }\n",
       "\n",
       "    .dataframe thead th {\n",
       "        text-align: right;\n",
       "    }\n",
       "</style>\n",
       "<table border=\"1\" class=\"dataframe\">\n",
       "  <thead>\n",
       "    <tr style=\"text-align: right;\">\n",
       "      <th></th>\n",
       "      <th>frase_original_clean_wc</th>\n",
       "      <th>Frases_comparativas_clean_wc</th>\n",
       "    </tr>\n",
       "  </thead>\n",
       "  <tbody>\n",
       "    <tr>\n",
       "      <th>0</th>\n",
       "      <td>[olhando, escala, parede, valor, indicaria, melhor, dor, hoje]</td>\n",
       "      <td>[acordo, escala, dor, ali, parede]</td>\n",
       "    </tr>\n",
       "    <tr>\n",
       "      <th>1</th>\n",
       "      <td>[olhando, escala, parede, valor, indicaria, melhor, dor, hoje]</td>\n",
       "      <td>[valor, voce, acha, representa, dor]</td>\n",
       "    </tr>\n",
       "    <tr>\n",
       "      <th>2</th>\n",
       "      <td>[olhando, escala, parede, valor, indicaria, melhor, dor, hoje]</td>\n",
       "      <td>[nivel, intensidade, dor, atualmente]</td>\n",
       "    </tr>\n",
       "    <tr>\n",
       "      <th>3</th>\n",
       "      <td>[olhando, escala, parede, valor, indicaria, melhor, dor, hoje]</td>\n",
       "      <td>[intensidade, dor]</td>\n",
       "    </tr>\n",
       "  </tbody>\n",
       "</table>\n",
       "</div>"
      ],
      "text/plain": [
       "                                          frase_original_clean_wc  \\\n",
       "0  [olhando, escala, parede, valor, indicaria, melhor, dor, hoje]   \n",
       "1  [olhando, escala, parede, valor, indicaria, melhor, dor, hoje]   \n",
       "2  [olhando, escala, parede, valor, indicaria, melhor, dor, hoje]   \n",
       "3  [olhando, escala, parede, valor, indicaria, melhor, dor, hoje]   \n",
       "\n",
       "            Frases_comparativas_clean_wc  \n",
       "0     [acordo, escala, dor, ali, parede]  \n",
       "1   [valor, voce, acha, representa, dor]  \n",
       "2  [nivel, intensidade, dor, atualmente]  \n",
       "3                     [intensidade, dor]  "
      ]
     },
     "execution_count": 12,
     "metadata": {},
     "output_type": "execute_result"
    }
   ],
   "source": [
    "dataset[['frase_original_clean_wc',\"Frases_comparativas_clean_wc\"]]"
   ]
  },
  {
   "cell_type": "markdown",
   "id": "c07376ff",
   "metadata": {},
   "source": [
    "### Concat columns and convert all words in vector"
   ]
  },
  {
   "cell_type": "code",
   "execution_count": 13,
   "id": "6816287f",
   "metadata": {},
   "outputs": [],
   "source": [
    "dataset[\"concat\"] = dataset[\"frase_original_clean_wc\"] + dataset[\"Frases_comparativas_clean_wc\"]"
   ]
  },
  {
   "cell_type": "code",
   "execution_count": 14,
   "id": "43d391f1",
   "metadata": {},
   "outputs": [
    {
     "data": {
      "text/plain": [
       "0       [olhando, escala, parede, valor, indicaria, melhor, dor, hoje, acordo, escala, dor, ali, parede]\n",
       "1     [olhando, escala, parede, valor, indicaria, melhor, dor, hoje, valor, voce, acha, representa, dor]\n",
       "2    [olhando, escala, parede, valor, indicaria, melhor, dor, hoje, nivel, intensidade, dor, atualmente]\n",
       "3                       [olhando, escala, parede, valor, indicaria, melhor, dor, hoje, intensidade, dor]\n",
       "Name: concat, dtype: object"
      ]
     },
     "execution_count": 14,
     "metadata": {},
     "output_type": "execute_result"
    }
   ],
   "source": [
    "dataset['concat']"
   ]
  },
  {
   "cell_type": "markdown",
   "id": "4c79123d",
   "metadata": {},
   "source": [
    "### Training model"
   ]
  },
  {
   "cell_type": "code",
   "execution_count": 15,
   "id": "d8921939",
   "metadata": {},
   "outputs": [],
   "source": [
    "model_wc = createModel_word2vec(dataset['concat'],min_count=1,window=10)"
   ]
  },
  {
   "cell_type": "markdown",
   "id": "6839fcba",
   "metadata": {},
   "source": [
    "### Visualize Vocabulary"
   ]
  },
  {
   "cell_type": "code",
   "execution_count": 16,
   "id": "46a158d7",
   "metadata": {},
   "outputs": [
    {
     "data": {
      "text/plain": [
       "{'olhando': <gensim.models.keyedvectors.Vocab at 0x7f5e6a2e2a90>,\n",
       " 'escala': <gensim.models.keyedvectors.Vocab at 0x7f5e6a05bfa0>,\n",
       " 'parede': <gensim.models.keyedvectors.Vocab at 0x7f5e6a05bb20>,\n",
       " 'valor': <gensim.models.keyedvectors.Vocab at 0x7f5ed5152d60>,\n",
       " 'indicaria': <gensim.models.keyedvectors.Vocab at 0x7f5ed51525e0>,\n",
       " 'melhor': <gensim.models.keyedvectors.Vocab at 0x7f5ed5152610>,\n",
       " 'dor': <gensim.models.keyedvectors.Vocab at 0x7f5ed5152a90>,\n",
       " 'hoje': <gensim.models.keyedvectors.Vocab at 0x7f5ed5152eb0>,\n",
       " 'acordo': <gensim.models.keyedvectors.Vocab at 0x7f5ed5152f40>,\n",
       " 'ali': <gensim.models.keyedvectors.Vocab at 0x7f5ed5152bb0>,\n",
       " 'voce': <gensim.models.keyedvectors.Vocab at 0x7f5ed5152ee0>,\n",
       " 'acha': <gensim.models.keyedvectors.Vocab at 0x7f5ed5152d90>,\n",
       " 'representa': <gensim.models.keyedvectors.Vocab at 0x7f5ed5152e20>,\n",
       " 'nivel': <gensim.models.keyedvectors.Vocab at 0x7f5ed5152d00>,\n",
       " 'intensidade': <gensim.models.keyedvectors.Vocab at 0x7f5ed5152dc0>,\n",
       " 'atualmente': <gensim.models.keyedvectors.Vocab at 0x7f5ed5152fd0>}"
      ]
     },
     "execution_count": 16,
     "metadata": {},
     "output_type": "execute_result"
    }
   ],
   "source": [
    "model_wc.wv.vocab"
   ]
  },
  {
   "cell_type": "code",
   "execution_count": 17,
   "id": "d7df2ff9",
   "metadata": {},
   "outputs": [
    {
     "data": {
      "text/plain": [
       "['olhando',\n",
       " 'escala',\n",
       " 'parede',\n",
       " 'valor',\n",
       " 'indicaria',\n",
       " 'melhor',\n",
       " 'dor',\n",
       " 'hoje',\n",
       " 'acordo',\n",
       " 'ali',\n",
       " 'voce',\n",
       " 'acha',\n",
       " 'representa',\n",
       " 'nivel',\n",
       " 'intensidade',\n",
       " 'atualmente']"
      ]
     },
     "execution_count": 17,
     "metadata": {},
     "output_type": "execute_result"
    }
   ],
   "source": [
    "[x for x in model_wc.wv.vocab]"
   ]
  },
  {
   "cell_type": "markdown",
   "id": "51c0b699",
   "metadata": {},
   "source": [
    "### Get similar words"
   ]
  },
  {
   "cell_type": "code",
   "execution_count": 18,
   "id": "12a7bacd",
   "metadata": {},
   "outputs": [
    {
     "name": "stderr",
     "output_type": "stream",
     "text": [
      "<ipython-input-18-caf29175ad26>:1: DeprecationWarning: Call to deprecated `most_similar` (Method will be removed in 4.0.0, use self.wv.most_similar() instead).\n",
      "  [(item[0],round(item[1],2)) for item in model_wc.most_similar('dor')]\n"
     ]
    },
    {
     "data": {
      "text/plain": [
       "[('olhando', 0.22),\n",
       " ('ali', 0.07),\n",
       " ('escala', 0.04),\n",
       " ('atualmente', 0.04),\n",
       " ('representa', 0.03),\n",
       " ('acha', 0.02),\n",
       " ('valor', 0.01),\n",
       " ('indicaria', -0.04),\n",
       " ('voce', -0.04),\n",
       " ('melhor', -0.05)]"
      ]
     },
     "execution_count": 18,
     "metadata": {},
     "output_type": "execute_result"
    }
   ],
   "source": [
    "[(item[0],round(item[1],2)) for item in model_wc.most_similar('dor')]"
   ]
  },
  {
   "cell_type": "code",
   "execution_count": 25,
   "id": "350d666b",
   "metadata": {},
   "outputs": [
    {
     "name": "stdout",
     "output_type": "stream",
     "text": [
      "olhando\n",
      "escala\n",
      "parede\n",
      "valor\n",
      "indicaria\n",
      "melhor\n",
      "dor\n",
      "hoje\n",
      "acordo\n",
      "ali\n",
      "voce\n",
      "acha\n",
      "representa\n",
      "nivel\n",
      "intensidade\n",
      "atualmente\n"
     ]
    },
    {
     "name": "stderr",
     "output_type": "stream",
     "text": [
      "<ipython-input-25-19e4335cb028>:9: DeprecationWarning: Call to deprecated `most_similar` (Method will be removed in 4.0.0, use self.wv.most_similar() instead).\n",
      "  for similar_word, _ in model_wc.most_similar(word, topn=30):\n",
      "<ipython-input-25-19e4335cb028>:11: DeprecationWarning: Call to deprecated `__getitem__` (Method will be removed in 4.0.0, use self.wv.__getitem__() instead).\n",
      "  embeddings.append(model_wc[similar_word])\n"
     ]
    }
   ],
   "source": [
    "keys = [x for x in model_wc.wv.vocab]\n",
    "embedding_clusters = []\n",
    "word_clusters = []\n",
    "for word in keys:\n",
    "    print(word)\n",
    "    embeddings = []\n",
    "    words = []\n",
    "    for similar_word, _ in model_wc.most_similar(word, topn=30):\n",
    "        words.append(similar_word)\n",
    "        embeddings.append(model_wc[similar_word])\n",
    "    embedding_clusters.append(embeddings)\n",
    "    word_clusters.append(words)\n",
    "    \n",
    "    model_wc.most_similar"
   ]
  },
  {
   "cell_type": "markdown",
   "id": "591adebb",
   "metadata": {},
   "source": [
    "### Word Embedding"
   ]
  },
  {
   "cell_type": "code",
   "execution_count": 26,
   "id": "f4fe86db",
   "metadata": {},
   "outputs": [
    {
     "name": "stderr",
     "output_type": "stream",
     "text": [
      "Exception ignored on calling ctypes callback function: <function _ThreadpoolInfo._find_modules_with_dl_iterate_phdr.<locals>.match_module_callback at 0x7f5e67c799d0>\n",
      "Traceback (most recent call last):\n",
      "  File \"/opt/conda/lib/python3.8/site-packages/threadpoolctl.py\", line 400, in match_module_callback\n",
      "    self._make_module_from_path(filepath)\n",
      "  File \"/opt/conda/lib/python3.8/site-packages/threadpoolctl.py\", line 515, in _make_module_from_path\n",
      "    module = module_class(filepath, prefix, user_api, internal_api)\n",
      "  File \"/opt/conda/lib/python3.8/site-packages/threadpoolctl.py\", line 606, in __init__\n",
      "    self.version = self.get_version()\n",
      "  File \"/opt/conda/lib/python3.8/site-packages/threadpoolctl.py\", line 646, in get_version\n",
      "    config = get_config().split()\n",
      "AttributeError: 'NoneType' object has no attribute 'split'\n"
     ]
    }
   ],
   "source": [
    "from sklearn.manifold import TSNE\n",
    "embedding_clusters = np.array(embedding_clusters)\n",
    "n, m, k = embedding_clusters.shape\n",
    "tsne_model_en_2d = TSNE(perplexity=10, n_components=2, init='pca', n_iter=3500, random_state=32)\n",
    "embeddings_en_2d = np.array(tsne_model_en_2d.fit_transform(embedding_clusters.reshape(n * m, k))).reshape(n, m, 2)"
   ]
  },
  {
   "cell_type": "markdown",
   "id": "254208fb",
   "metadata": {},
   "source": [
    "### Plot with similar words"
   ]
  },
  {
   "cell_type": "code",
   "execution_count": 27,
   "id": "62e4d71d",
   "metadata": {},
   "outputs": [
    {
     "name": "stderr",
     "output_type": "stream",
     "text": [
      "*c* argument looks like a single numeric RGB or RGBA sequence, which should be avoided as value-mapping will have precedence in case its length matches with *x* & *y*.  Please use the *color* keyword-argument or provide a 2D array with a single row if you intend to specify the same RGB or RGBA value for all points.\n",
      "*c* argument looks like a single numeric RGB or RGBA sequence, which should be avoided as value-mapping will have precedence in case its length matches with *x* & *y*.  Please use the *color* keyword-argument or provide a 2D array with a single row if you intend to specify the same RGB or RGBA value for all points.\n",
      "*c* argument looks like a single numeric RGB or RGBA sequence, which should be avoided as value-mapping will have precedence in case its length matches with *x* & *y*.  Please use the *color* keyword-argument or provide a 2D array with a single row if you intend to specify the same RGB or RGBA value for all points.\n",
      "*c* argument looks like a single numeric RGB or RGBA sequence, which should be avoided as value-mapping will have precedence in case its length matches with *x* & *y*.  Please use the *color* keyword-argument or provide a 2D array with a single row if you intend to specify the same RGB or RGBA value for all points.\n",
      "*c* argument looks like a single numeric RGB or RGBA sequence, which should be avoided as value-mapping will have precedence in case its length matches with *x* & *y*.  Please use the *color* keyword-argument or provide a 2D array with a single row if you intend to specify the same RGB or RGBA value for all points.\n",
      "*c* argument looks like a single numeric RGB or RGBA sequence, which should be avoided as value-mapping will have precedence in case its length matches with *x* & *y*.  Please use the *color* keyword-argument or provide a 2D array with a single row if you intend to specify the same RGB or RGBA value for all points.\n",
      "*c* argument looks like a single numeric RGB or RGBA sequence, which should be avoided as value-mapping will have precedence in case its length matches with *x* & *y*.  Please use the *color* keyword-argument or provide a 2D array with a single row if you intend to specify the same RGB or RGBA value for all points.\n",
      "*c* argument looks like a single numeric RGB or RGBA sequence, which should be avoided as value-mapping will have precedence in case its length matches with *x* & *y*.  Please use the *color* keyword-argument or provide a 2D array with a single row if you intend to specify the same RGB or RGBA value for all points.\n",
      "*c* argument looks like a single numeric RGB or RGBA sequence, which should be avoided as value-mapping will have precedence in case its length matches with *x* & *y*.  Please use the *color* keyword-argument or provide a 2D array with a single row if you intend to specify the same RGB or RGBA value for all points.\n",
      "*c* argument looks like a single numeric RGB or RGBA sequence, which should be avoided as value-mapping will have precedence in case its length matches with *x* & *y*.  Please use the *color* keyword-argument or provide a 2D array with a single row if you intend to specify the same RGB or RGBA value for all points.\n",
      "*c* argument looks like a single numeric RGB or RGBA sequence, which should be avoided as value-mapping will have precedence in case its length matches with *x* & *y*.  Please use the *color* keyword-argument or provide a 2D array with a single row if you intend to specify the same RGB or RGBA value for all points.\n",
      "*c* argument looks like a single numeric RGB or RGBA sequence, which should be avoided as value-mapping will have precedence in case its length matches with *x* & *y*.  Please use the *color* keyword-argument or provide a 2D array with a single row if you intend to specify the same RGB or RGBA value for all points.\n",
      "*c* argument looks like a single numeric RGB or RGBA sequence, which should be avoided as value-mapping will have precedence in case its length matches with *x* & *y*.  Please use the *color* keyword-argument or provide a 2D array with a single row if you intend to specify the same RGB or RGBA value for all points.\n",
      "*c* argument looks like a single numeric RGB or RGBA sequence, which should be avoided as value-mapping will have precedence in case its length matches with *x* & *y*.  Please use the *color* keyword-argument or provide a 2D array with a single row if you intend to specify the same RGB or RGBA value for all points.\n",
      "*c* argument looks like a single numeric RGB or RGBA sequence, which should be avoided as value-mapping will have precedence in case its length matches with *x* & *y*.  Please use the *color* keyword-argument or provide a 2D array with a single row if you intend to specify the same RGB or RGBA value for all points.\n",
      "*c* argument looks like a single numeric RGB or RGBA sequence, which should be avoided as value-mapping will have precedence in case its length matches with *x* & *y*.  Please use the *color* keyword-argument or provide a 2D array with a single row if you intend to specify the same RGB or RGBA value for all points.\n"
     ]
    },
    {
     "data": {
      "image/png": "[encoded data removed]",
      "text/plain": [
       "<Figure size 1152x648 with 1 Axes>"
      ]
     },
     "metadata": {
      "needs_background": "light"
     },
     "output_type": "display_data"
    }
   ],
   "source": [
    "import matplotlib.cm as cm\n",
    "\n",
    "def tsne_plot_similar_words(title, labels, embedding_clusters, word_clusters, a, filename=None):\n",
    "    plt.figure(figsize=(16, 9))\n",
    "    colors = cm.rainbow(np.linspace(0, 1, len(labels)))\n",
    "    for label, embeddings, words, color in zip(labels, embedding_clusters, word_clusters, colors):\n",
    "        x = embeddings[:, 0]\n",
    "        y = embeddings[:, 1]\n",
    "        plt.scatter(x, y, c=color, alpha=a, label=label)\n",
    "        for i, word in enumerate(words):\n",
    "            plt.annotate(word, alpha=0.5, xy=(x[i], y[i]), xytext=(5, 2),\n",
    "                         textcoords='offset points', ha='right', va='bottom', size=8)\n",
    "    plt.legend(loc=4)\n",
    "    plt.title(title)\n",
    "    plt.grid(True)\n",
    "    if filename:\n",
    "        plt.savefig(filename, format='png', dpi=150, bbox_inches='tight')\n",
    "    plt.show()\n",
    "\n",
    "\n",
    "tsne_plot_similar_words('Similar words from text', keys, embeddings_en_2d, word_clusters, 0.7,\n",
    "                        'similar_words.png')"
   ]
  },
  {
   "cell_type": "code",
   "execution_count": 29,
   "id": "88b05e77",
   "metadata": {},
   "outputs": [
    {
     "name": "stdout",
     "output_type": "stream",
     "text": [
      "Loaded 16 words in vocabulary\n"
     ]
    }
   ],
   "source": [
    "w2v_vocab = set(model_wc.wv.vocab)\n",
    "print(\"Loaded {} words in vocabulary\".format(len(w2v_vocab)))"
   ]
  },
  {
   "cell_type": "markdown",
   "id": "ef8ca814",
   "metadata": {},
   "source": [
    "### Make a similarity matrix for words and visualise"
   ]
  },
  {
   "cell_type": "code",
   "execution_count": 32,
   "id": "5413abde",
   "metadata": {},
   "outputs": [
    {
     "name": "stderr",
     "output_type": "stream",
     "text": [
      "<ipython-input-32-c1eab9ff789f>:6: DeprecationWarning: Call to deprecated `similarity` (Method will be removed in 4.0.0, use self.wv.similarity() instead).\n",
      "  sim = model_wc.similarity(word1, word2)\n"
     ]
    }
   ],
   "source": [
    "words = [x for x in model_wc.wv.vocab]\n",
    "similarities = np.zeros((len(words), len(words)), dtype=np.float_)\n",
    "for idx1, word1 in enumerate(words):\n",
    "    for idx2, word2 in enumerate(words):\n",
    "        # note KeyError is possible if word doesn't exist\n",
    "        sim = model_wc.similarity(word1, word2)\n",
    "        similarities[idx1, idx2] = sim\n",
    "        \n",
    "df = pd.DataFrame.from_records(similarities, columns=words)\n",
    "df.index = words"
   ]
  },
  {
   "cell_type": "code",
   "execution_count": 33,
   "id": "729fcad3",
   "metadata": {},
   "outputs": [
    {
     "data": {
      "text/html": [
       "<div>\n",
       "<style scoped>\n",
       "    .dataframe tbody tr th:only-of-type {\n",
       "        vertical-align: middle;\n",
       "    }\n",
       "\n",
       "    .dataframe tbody tr th {\n",
       "        vertical-align: top;\n",
       "    }\n",
       "\n",
       "    .dataframe thead th {\n",
       "        text-align: right;\n",
       "    }\n",
       "</style>\n",
       "<table border=\"1\" class=\"dataframe\">\n",
       "  <thead>\n",
       "    <tr style=\"text-align: right;\">\n",
       "      <th></th>\n",
       "      <th>olhando</th>\n",
       "      <th>escala</th>\n",
       "      <th>parede</th>\n",
       "      <th>valor</th>\n",
       "      <th>indicaria</th>\n",
       "      <th>melhor</th>\n",
       "      <th>dor</th>\n",
       "      <th>hoje</th>\n",
       "      <th>acordo</th>\n",
       "      <th>ali</th>\n",
       "      <th>voce</th>\n",
       "      <th>acha</th>\n",
       "      <th>representa</th>\n",
       "      <th>nivel</th>\n",
       "      <th>intensidade</th>\n",
       "      <th>atualmente</th>\n",
       "    </tr>\n",
       "  </thead>\n",
       "  <tbody>\n",
       "    <tr>\n",
       "      <th>olhando</th>\n",
       "      <td>1.000000</td>\n",
       "      <td>0.199654</td>\n",
       "      <td>0.021437</td>\n",
       "      <td>-0.004265</td>\n",
       "      <td>-0.109790</td>\n",
       "      <td>0.054267</td>\n",
       "      <td>0.223861</td>\n",
       "      <td>-0.046036</td>\n",
       "      <td>0.006712</td>\n",
       "      <td>0.023890</td>\n",
       "      <td>0.017133</td>\n",
       "      <td>0.046473</td>\n",
       "      <td>-0.015632</td>\n",
       "      <td>-0.020692</td>\n",
       "      <td>-0.157403</td>\n",
       "      <td>-0.034920</td>\n",
       "    </tr>\n",
       "    <tr>\n",
       "      <th>escala</th>\n",
       "      <td>0.199654</td>\n",
       "      <td>1.000000</td>\n",
       "      <td>-0.049118</td>\n",
       "      <td>-0.156355</td>\n",
       "      <td>0.025249</td>\n",
       "      <td>-0.177179</td>\n",
       "      <td>0.040907</td>\n",
       "      <td>-0.029737</td>\n",
       "      <td>0.120944</td>\n",
       "      <td>-0.039461</td>\n",
       "      <td>-0.016011</td>\n",
       "      <td>0.070744</td>\n",
       "      <td>0.073734</td>\n",
       "      <td>0.000789</td>\n",
       "      <td>0.018744</td>\n",
       "      <td>0.009369</td>\n",
       "    </tr>\n",
       "    <tr>\n",
       "      <th>parede</th>\n",
       "      <td>0.021437</td>\n",
       "      <td>-0.049118</td>\n",
       "      <td>1.000000</td>\n",
       "      <td>-0.020328</td>\n",
       "      <td>0.138633</td>\n",
       "      <td>-0.097617</td>\n",
       "      <td>-0.123674</td>\n",
       "      <td>-0.149732</td>\n",
       "      <td>-0.175671</td>\n",
       "      <td>-0.061024</td>\n",
       "      <td>0.116344</td>\n",
       "      <td>0.123247</td>\n",
       "      <td>-0.089084</td>\n",
       "      <td>0.124256</td>\n",
       "      <td>-0.038102</td>\n",
       "      <td>-0.036756</td>\n",
       "    </tr>\n",
       "    <tr>\n",
       "      <th>valor</th>\n",
       "      <td>-0.004265</td>\n",
       "      <td>-0.156355</td>\n",
       "      <td>-0.020328</td>\n",
       "      <td>1.000000</td>\n",
       "      <td>-0.062023</td>\n",
       "      <td>0.078257</td>\n",
       "      <td>0.006847</td>\n",
       "      <td>-0.223759</td>\n",
       "      <td>-0.053184</td>\n",
       "      <td>0.102978</td>\n",
       "      <td>-0.164532</td>\n",
       "      <td>0.081697</td>\n",
       "      <td>-0.034178</td>\n",
       "      <td>-0.013712</td>\n",
       "      <td>-0.080587</td>\n",
       "      <td>0.115380</td>\n",
       "    </tr>\n",
       "    <tr>\n",
       "      <th>indicaria</th>\n",
       "      <td>-0.109790</td>\n",
       "      <td>0.025249</td>\n",
       "      <td>0.138633</td>\n",
       "      <td>-0.062023</td>\n",
       "      <td>1.000000</td>\n",
       "      <td>-0.055514</td>\n",
       "      <td>-0.038780</td>\n",
       "      <td>0.058055</td>\n",
       "      <td>0.035633</td>\n",
       "      <td>0.087162</td>\n",
       "      <td>-0.047587</td>\n",
       "      <td>-0.009249</td>\n",
       "      <td>-0.046719</td>\n",
       "      <td>0.144222</td>\n",
       "      <td>0.077714</td>\n",
       "      <td>0.069910</td>\n",
       "    </tr>\n",
       "    <tr>\n",
       "      <th>melhor</th>\n",
       "      <td>0.054267</td>\n",
       "      <td>-0.177179</td>\n",
       "      <td>-0.097617</td>\n",
       "      <td>0.078257</td>\n",
       "      <td>-0.055514</td>\n",
       "      <td>1.000000</td>\n",
       "      <td>-0.048345</td>\n",
       "      <td>0.133842</td>\n",
       "      <td>-0.011395</td>\n",
       "      <td>-0.064204</td>\n",
       "      <td>0.083900</td>\n",
       "      <td>0.058919</td>\n",
       "      <td>-0.071843</td>\n",
       "      <td>0.017150</td>\n",
       "      <td>-0.068506</td>\n",
       "      <td>0.037353</td>\n",
       "    </tr>\n",
       "    <tr>\n",
       "      <th>dor</th>\n",
       "      <td>0.223861</td>\n",
       "      <td>0.040907</td>\n",
       "      <td>-0.123674</td>\n",
       "      <td>0.006847</td>\n",
       "      <td>-0.038780</td>\n",
       "      <td>-0.048345</td>\n",
       "      <td>1.000000</td>\n",
       "      <td>-0.051365</td>\n",
       "      <td>-0.091946</td>\n",
       "      <td>0.066550</td>\n",
       "      <td>-0.044566</td>\n",
       "      <td>0.020427</td>\n",
       "      <td>0.029672</td>\n",
       "      <td>-0.058449</td>\n",
       "      <td>-0.286256</td>\n",
       "      <td>0.036243</td>\n",
       "    </tr>\n",
       "    <tr>\n",
       "      <th>hoje</th>\n",
       "      <td>-0.046036</td>\n",
       "      <td>-0.029737</td>\n",
       "      <td>-0.149732</td>\n",
       "      <td>-0.223759</td>\n",
       "      <td>0.058055</td>\n",
       "      <td>0.133842</td>\n",
       "      <td>-0.051365</td>\n",
       "      <td>1.000000</td>\n",
       "      <td>-0.107319</td>\n",
       "      <td>0.065918</td>\n",
       "      <td>0.100781</td>\n",
       "      <td>0.024614</td>\n",
       "      <td>-0.161680</td>\n",
       "      <td>-0.014279</td>\n",
       "      <td>-0.020041</td>\n",
       "      <td>-0.013579</td>\n",
       "    </tr>\n",
       "    <tr>\n",
       "      <th>acordo</th>\n",
       "      <td>0.006712</td>\n",
       "      <td>0.120944</td>\n",
       "      <td>-0.175671</td>\n",
       "      <td>-0.053184</td>\n",
       "      <td>0.035633</td>\n",
       "      <td>-0.011395</td>\n",
       "      <td>-0.091946</td>\n",
       "      <td>-0.107319</td>\n",
       "      <td>1.000000</td>\n",
       "      <td>0.130882</td>\n",
       "      <td>0.000296</td>\n",
       "      <td>-0.045334</td>\n",
       "      <td>-0.055593</td>\n",
       "      <td>0.177600</td>\n",
       "      <td>0.102472</td>\n",
       "      <td>0.048397</td>\n",
       "    </tr>\n",
       "    <tr>\n",
       "      <th>ali</th>\n",
       "      <td>0.023890</td>\n",
       "      <td>-0.039461</td>\n",
       "      <td>-0.061024</td>\n",
       "      <td>0.102978</td>\n",
       "      <td>0.087162</td>\n",
       "      <td>-0.064204</td>\n",
       "      <td>0.066550</td>\n",
       "      <td>0.065918</td>\n",
       "      <td>0.130882</td>\n",
       "      <td>1.000000</td>\n",
       "      <td>-0.116186</td>\n",
       "      <td>0.072615</td>\n",
       "      <td>-0.173460</td>\n",
       "      <td>-0.055165</td>\n",
       "      <td>0.089634</td>\n",
       "      <td>0.148793</td>\n",
       "    </tr>\n",
       "    <tr>\n",
       "      <th>voce</th>\n",
       "      <td>0.017133</td>\n",
       "      <td>-0.016011</td>\n",
       "      <td>0.116344</td>\n",
       "      <td>-0.164532</td>\n",
       "      <td>-0.047587</td>\n",
       "      <td>0.083900</td>\n",
       "      <td>-0.044566</td>\n",
       "      <td>0.100781</td>\n",
       "      <td>0.000296</td>\n",
       "      <td>-0.116186</td>\n",
       "      <td>1.000000</td>\n",
       "      <td>-0.061420</td>\n",
       "      <td>-0.012557</td>\n",
       "      <td>0.061671</td>\n",
       "      <td>0.102743</td>\n",
       "      <td>-0.019024</td>\n",
       "    </tr>\n",
       "    <tr>\n",
       "      <th>acha</th>\n",
       "      <td>0.046473</td>\n",
       "      <td>0.070744</td>\n",
       "      <td>0.123247</td>\n",
       "      <td>0.081697</td>\n",
       "      <td>-0.009249</td>\n",
       "      <td>0.058919</td>\n",
       "      <td>0.020427</td>\n",
       "      <td>0.024614</td>\n",
       "      <td>-0.045334</td>\n",
       "      <td>0.072615</td>\n",
       "      <td>-0.061420</td>\n",
       "      <td>1.000000</td>\n",
       "      <td>0.050266</td>\n",
       "      <td>-0.015544</td>\n",
       "      <td>-0.045600</td>\n",
       "      <td>0.156360</td>\n",
       "    </tr>\n",
       "    <tr>\n",
       "      <th>representa</th>\n",
       "      <td>-0.015632</td>\n",
       "      <td>0.073734</td>\n",
       "      <td>-0.089084</td>\n",
       "      <td>-0.034178</td>\n",
       "      <td>-0.046719</td>\n",
       "      <td>-0.071843</td>\n",
       "      <td>0.029672</td>\n",
       "      <td>-0.161680</td>\n",
       "      <td>-0.055593</td>\n",
       "      <td>-0.173460</td>\n",
       "      <td>-0.012557</td>\n",
       "      <td>0.050266</td>\n",
       "      <td>1.000000</td>\n",
       "      <td>0.012651</td>\n",
       "      <td>0.011692</td>\n",
       "      <td>0.053315</td>\n",
       "    </tr>\n",
       "    <tr>\n",
       "      <th>nivel</th>\n",
       "      <td>-0.020692</td>\n",
       "      <td>0.000789</td>\n",
       "      <td>0.124256</td>\n",
       "      <td>-0.013712</td>\n",
       "      <td>0.144222</td>\n",
       "      <td>0.017150</td>\n",
       "      <td>-0.058449</td>\n",
       "      <td>-0.014279</td>\n",
       "      <td>0.177600</td>\n",
       "      <td>-0.055165</td>\n",
       "      <td>0.061671</td>\n",
       "      <td>-0.015544</td>\n",
       "      <td>0.012651</td>\n",
       "      <td>1.000000</td>\n",
       "      <td>0.069432</td>\n",
       "      <td>0.102002</td>\n",
       "    </tr>\n",
       "    <tr>\n",
       "      <th>intensidade</th>\n",
       "      <td>-0.157403</td>\n",
       "      <td>0.018744</td>\n",
       "      <td>-0.038102</td>\n",
       "      <td>-0.080587</td>\n",
       "      <td>0.077714</td>\n",
       "      <td>-0.068506</td>\n",
       "      <td>-0.286256</td>\n",
       "      <td>-0.020041</td>\n",
       "      <td>0.102472</td>\n",
       "      <td>0.089634</td>\n",
       "      <td>0.102743</td>\n",
       "      <td>-0.045600</td>\n",
       "      <td>0.011692</td>\n",
       "      <td>0.069432</td>\n",
       "      <td>1.000000</td>\n",
       "      <td>-0.016009</td>\n",
       "    </tr>\n",
       "    <tr>\n",
       "      <th>atualmente</th>\n",
       "      <td>-0.034920</td>\n",
       "      <td>0.009369</td>\n",
       "      <td>-0.036756</td>\n",
       "      <td>0.115380</td>\n",
       "      <td>0.069910</td>\n",
       "      <td>0.037353</td>\n",
       "      <td>0.036243</td>\n",
       "      <td>-0.013579</td>\n",
       "      <td>0.048397</td>\n",
       "      <td>0.148793</td>\n",
       "      <td>-0.019024</td>\n",
       "      <td>0.156360</td>\n",
       "      <td>0.053315</td>\n",
       "      <td>0.102002</td>\n",
       "      <td>-0.016009</td>\n",
       "      <td>1.000000</td>\n",
       "    </tr>\n",
       "  </tbody>\n",
       "</table>\n",
       "</div>"
      ],
      "text/plain": [
       "              olhando    escala    parede     valor  indicaria    melhor  \\\n",
       "olhando      1.000000  0.199654  0.021437 -0.004265  -0.109790  0.054267   \n",
       "escala       0.199654  1.000000 -0.049118 -0.156355   0.025249 -0.177179   \n",
       "parede       0.021437 -0.049118  1.000000 -0.020328   0.138633 -0.097617   \n",
       "valor       -0.004265 -0.156355 -0.020328  1.000000  -0.062023  0.078257   \n",
       "indicaria   -0.109790  0.025249  0.138633 -0.062023   1.000000 -0.055514   \n",
       "melhor       0.054267 -0.177179 -0.097617  0.078257  -0.055514  1.000000   \n",
       "dor          0.223861  0.040907 -0.123674  0.006847  -0.038780 -0.048345   \n",
       "hoje        -0.046036 -0.029737 -0.149732 -0.223759   0.058055  0.133842   \n",
       "acordo       0.006712  0.120944 -0.175671 -0.053184   0.035633 -0.011395   \n",
       "ali          0.023890 -0.039461 -0.061024  0.102978   0.087162 -0.064204   \n",
       "voce         0.017133 -0.016011  0.116344 -0.164532  -0.047587  0.083900   \n",
       "acha         0.046473  0.070744  0.123247  0.081697  -0.009249  0.058919   \n",
       "representa  -0.015632  0.073734 -0.089084 -0.034178  -0.046719 -0.071843   \n",
       "nivel       -0.020692  0.000789  0.124256 -0.013712   0.144222  0.017150   \n",
       "intensidade -0.157403  0.018744 -0.038102 -0.080587   0.077714 -0.068506   \n",
       "atualmente  -0.034920  0.009369 -0.036756  0.115380   0.069910  0.037353   \n",
       "\n",
       "                  dor      hoje    acordo       ali      voce      acha  \\\n",
       "olhando      0.223861 -0.046036  0.006712  0.023890  0.017133  0.046473   \n",
       "escala       0.040907 -0.029737  0.120944 -0.039461 -0.016011  0.070744   \n",
       "parede      -0.123674 -0.149732 -0.175671 -0.061024  0.116344  0.123247   \n",
       "valor        0.006847 -0.223759 -0.053184  0.102978 -0.164532  0.081697   \n",
       "indicaria   -0.038780  0.058055  0.035633  0.087162 -0.047587 -0.009249   \n",
       "melhor      -0.048345  0.133842 -0.011395 -0.064204  0.083900  0.058919   \n",
       "dor          1.000000 -0.051365 -0.091946  0.066550 -0.044566  0.020427   \n",
       "hoje        -0.051365  1.000000 -0.107319  0.065918  0.100781  0.024614   \n",
       "acordo      -0.091946 -0.107319  1.000000  0.130882  0.000296 -0.045334   \n",
       "ali          0.066550  0.065918  0.130882  1.000000 -0.116186  0.072615   \n",
       "voce        -0.044566  0.100781  0.000296 -0.116186  1.000000 -0.061420   \n",
       "acha         0.020427  0.024614 -0.045334  0.072615 -0.061420  1.000000   \n",
       "representa   0.029672 -0.161680 -0.055593 -0.173460 -0.012557  0.050266   \n",
       "nivel       -0.058449 -0.014279  0.177600 -0.055165  0.061671 -0.015544   \n",
       "intensidade -0.286256 -0.020041  0.102472  0.089634  0.102743 -0.045600   \n",
       "atualmente   0.036243 -0.013579  0.048397  0.148793 -0.019024  0.156360   \n",
       "\n",
       "             representa     nivel  intensidade  atualmente  \n",
       "olhando       -0.015632 -0.020692    -0.157403   -0.034920  \n",
       "escala         0.073734  0.000789     0.018744    0.009369  \n",
       "parede        -0.089084  0.124256    -0.038102   -0.036756  \n",
       "valor         -0.034178 -0.013712    -0.080587    0.115380  \n",
       "indicaria     -0.046719  0.144222     0.077714    0.069910  \n",
       "melhor        -0.071843  0.017150    -0.068506    0.037353  \n",
       "dor            0.029672 -0.058449    -0.286256    0.036243  \n",
       "hoje          -0.161680 -0.014279    -0.020041   -0.013579  \n",
       "acordo        -0.055593  0.177600     0.102472    0.048397  \n",
       "ali           -0.173460 -0.055165     0.089634    0.148793  \n",
       "voce          -0.012557  0.061671     0.102743   -0.019024  \n",
       "acha           0.050266 -0.015544    -0.045600    0.156360  \n",
       "representa     1.000000  0.012651     0.011692    0.053315  \n",
       "nivel          0.012651  1.000000     0.069432    0.102002  \n",
       "intensidade    0.011692  0.069432     1.000000   -0.016009  \n",
       "atualmente     0.053315  0.102002    -0.016009    1.000000  "
      ]
     },
     "execution_count": 33,
     "metadata": {},
     "output_type": "execute_result"
    }
   ],
   "source": [
    "df"
   ]
  },
  {
   "cell_type": "code",
   "execution_count": 34,
   "id": "997cbac8",
   "metadata": {},
   "outputs": [
    {
     "data": {
      "image/png": "[encoded data removed]",
      "text/plain": [
       "<Figure size 1008x576 with 2 Axes>"
      ]
     },
     "metadata": {
      "needs_background": "light"
     },
     "output_type": "display_data"
    }
   ],
   "source": [
    "f, ax=plt.subplots(1, 1, figsize=(14,8))\n",
    "cmap = plt.cm.Blues\n",
    "mask = np.zeros_like(df)\n",
    "mask[np.triu_indices_from(mask)] = True\n",
    "sns.heatmap(df, cmap=cmap, mask=mask, square=True, ax=ax)\n",
    "_=plt.yticks(rotation=90)\n",
    "plt.xlabel('Words')\n",
    "_=plt.xticks(rotation=45)\n",
    "_=plt.title(\"Similarities between words\")"
   ]
  },
  {
   "cell_type": "markdown",
   "id": "e7e08b67",
   "metadata": {},
   "source": [
    "### Score a target sentence to source sentences"
   ]
  },
  {
   "cell_type": "code",
   "execution_count": 53,
   "id": "7e12e9a0",
   "metadata": {},
   "outputs": [],
   "source": [
    "#target_sentence = \"You'd love to drink a cool refreshing Coke\"\n",
    "target_sentence = [\"Olhando para a escala na parede, qual valor indicaria melhor a sua dor hoje?\",\n",
    "                  \"De acordo com a escala de dor ali na parede\",\n",
    "                  'qual valor você acha que mais representa a sua dor?',\n",
    "                                'De 0 a 10, qual o nível de intensidade da sua dor atualmente?',\n",
    "                                'Qual a intensidade da sua dor?']"
   ]
  },
  {
   "cell_type": "code",
   "execution_count": 54,
   "id": "a2d60133",
   "metadata": {},
   "outputs": [
    {
     "name": "stdout",
     "output_type": "stream",
     "text": [
      "Target: ['Olhando para a escala na parede, qual valor indicaria melhor a sua dor hoje?', 'De acordo com a escala de dor ali na parede', 'qual valor você acha que mais representa a sua dor?', 'De 0 a 10, qual o nível de intensidade da sua dor atualmente?', 'Qual a intensidade da sua dor?']\n",
      "[(0.5046697854995728, 'dor'), (0.4307337701320648, 'valor'), (0.39103376865386963, 'indicaria'), (0.37447690963745117, 'escala'), (0.350790411233902, 'melhor'), (0.18861287832260132, 'olhando'), (0.1296248435974121, 'atualmente'), (0.10901141166687012, 'acha'), (0.07689647376537323, 'ali'), (0.03643537685275078, 'nivel'), (-0.002862058114260435, 'acordo'), (-0.01837567239999771, 'representa'), (-0.06634145230054855, 'hoje'), (-0.07998304069042206, 'parede'), (-0.09696633368730545, 'voce'), (-0.17525947093963623, 'intensidade')]\n",
      "Target: ['Olhando para a escala na parede, qual valor indicaria melhor a sua dor hoje?', 'De acordo com a escala de dor ali na parede', 'qual valor você acha que mais representa a sua dor?', 'De 0 a 10, qual o nível de intensidade da sua dor atualmente?', 'Qual a intensidade da sua dor?']\n",
      "[(0.5019577741622925, 'escala'), (0.46657752990722656, 'ali'), (0.4395984709262848, 'acordo'), (0.4300415813922882, 'dor'), (0.31128841638565063, 'parede'), (0.22634738683700562, 'olhando'), (0.11567488312721252, 'indicaria'), (0.11463882029056549, 'acha'), (0.09263410419225693, 'nivel'), (0.08882865309715271, 'atualmente'), (-0.01988465152680874, 'voce'), (-0.06091182678937912, 'valor'), (-0.06466597318649292, 'intensidade'), (-0.09467832744121552, 'representa'), (-0.13551674783229828, 'hoje'), (-0.18773244321346283, 'melhor')]\n",
      "Target: ['Olhando para a escala na parede, qual valor indicaria melhor a sua dor hoje?', 'De acordo com a escala de dor ali na parede', 'qual valor você acha que mais representa a sua dor?', 'De 0 a 10, qual o nível de intensidade da sua dor atualmente?', 'Qual a intensidade da sua dor?']\n",
      "[(0.6016743183135986, 'representa'), (0.592616856098175, 'valor'), (0.5904457569122314, 'acha'), (0.17797043919563293, 'atualmente'), (0.032187823206186295, 'melhor'), (0.03207143023610115, 'dor'), (0.01213942002505064, 'olhando'), (-0.0013107877457514405, 'parede'), (-0.007157261483371258, 'ali'), (-0.008285040967166424, 'nivel'), (-0.009024339728057384, 'escala'), (-0.062485892325639725, 'intensidade'), (-0.0679812803864479, 'indicaria'), (-0.08676107972860336, 'acordo'), (-0.1329832822084427, 'voce'), (-0.21137163043022156, 'hoje')]\n",
      "Target: ['Olhando para a escala na parede, qual valor indicaria melhor a sua dor hoje?', 'De acordo com a escala de dor ali na parede', 'qual valor você acha que mais representa a sua dor?', 'De 0 a 10, qual o nível de intensidade da sua dor atualmente?', 'Qual a intensidade da sua dor?']\n",
      "[(0.6205999851226807, 'dor'), (0.5736639499664307, 'intensidade'), (0.13024520874023438, 'ali'), (0.06255611032247543, 'olhando'), (0.05030977353453636, 'escala'), (0.045984748750925064, 'voce'), (0.03493363782763481, 'representa'), (0.03044768236577511, 'indicaria'), (0.017881378531455994, 'atualmente'), (0.006854942534118891, 'nivel'), (0.0052593122236430645, 'acordo'), (-0.01985587365925312, 'acha'), (-0.06009766459465027, 'valor'), (-0.060311246663331985, 'hoje'), (-0.0973917543888092, 'melhor'), (-0.1369059532880783, 'parede')]\n",
      "Target: ['Olhando para a escala na parede, qual valor indicaria melhor a sua dor hoje?', 'De acordo com a escala de dor ali na parede', 'qual valor você acha que mais representa a sua dor?', 'De 0 a 10, qual o nível de intensidade da sua dor atualmente?', 'Qual a intensidade da sua dor?']\n",
      "[(1.0, 'intensidade'), (0.10274346172809601, 'voce'), (0.10247208178043365, 'acordo'), (0.08963406085968018, 'ali'), (0.0777139663696289, 'indicaria'), (0.06943198293447495, 'nivel'), (0.01874442957341671, 'escala'), (0.011692025698721409, 'representa'), (-0.016008872538805008, 'atualmente'), (-0.020041432231664658, 'hoje'), (-0.03810196742415428, 'parede'), (-0.04560047760605812, 'acha'), (-0.06850560754537582, 'melhor'), (-0.08058736473321915, 'valor'), (-0.15740333497524261, 'olhando'), (-0.2862556278705597, 'dor')]\n"
     ]
    },
    {
     "name": "stderr",
     "output_type": "stream",
     "text": [
      "<ipython-input-54-589428ef2963>:10: DeprecationWarning: Call to deprecated `n_similarity` (Method will be removed in 4.0.0, use self.wv.n_similarity() instead).\n",
      "  sim = model_wc.n_similarity(target_sentence_words, sentence_words)\n"
     ]
    }
   ],
   "source": [
    "# use n_similarity to compute a cosine similarity (should be reasonably robust)\n",
    "\n",
    "for i in target_sentence:\n",
    "    sentences = [x for x in model_wc.wv.vocab]\n",
    "    sentences_similarity = np.zeros(len(sentences))\n",
    "\n",
    "    target_sentence_words = [w for w in i.split() if w in w2v_vocab]\n",
    "    for idx, sentence in enumerate(sentences):\n",
    "        sentence_words = [w for w in sentence.split() if w in w2v_vocab]\n",
    "        sim = model_wc.n_similarity(target_sentence_words, sentence_words)\n",
    "        sentences_similarity[idx] = sim\n",
    "\n",
    "    result = list(zip(sentences_similarity, sentences))\n",
    "    result.sort(key=lambda item:item[0], reverse=True)\n",
    "    print(\"Target:\", target_sentence)\n",
    "    print(result)"
   ]
  },
  {
   "cell_type": "markdown",
   "id": "0bef9cc2",
   "metadata": {},
   "source": [
    "### Test some word relationships"
   ]
  },
  {
   "cell_type": "code",
   "execution_count": 55,
   "id": "249b3015",
   "metadata": {},
   "outputs": [
    {
     "name": "stderr",
     "output_type": "stream",
     "text": [
      "<ipython-input-55-60883f20d73e>:1: DeprecationWarning: Call to deprecated `most_similar` (Method will be removed in 4.0.0, use self.wv.most_similar() instead).\n",
      "  model_wc.most_similar(positive=[\"acordo\", \"melhor\"], negative=['dor', 'intensidade'])\n"
     ]
    },
    {
     "data": {
      "text/plain": [
       "[('nivel', 0.09662148356437683),\n",
       " ('valor', 0.051954589784145355),\n",
       " ('hoje', 0.051489636301994324),\n",
       " ('atualmente', 0.03444698825478554),\n",
       " ('acha', 0.02037835866212845),\n",
       " ('voce', 0.013680223375558853),\n",
       " ('olhando', -0.002880651503801346),\n",
       " ('indicaria', -0.030923694372177124),\n",
       " ('ali', -0.04706038907170296),\n",
       " ('parede', -0.0586308091878891)]"
      ]
     },
     "execution_count": 55,
     "metadata": {},
     "output_type": "execute_result"
    }
   ],
   "source": [
    "model_wc.most_similar(positive=[\"acordo\", \"melhor\"], negative=['dor', 'intensidade'])"
   ]
  },
  {
   "cell_type": "markdown",
   "id": "cbf9f520",
   "metadata": {},
   "source": [
    "### Project a set of words (via their 30 dimensional vector) using T-SNE"
   ]
  },
  {
   "cell_type": "code",
   "execution_count": 56,
   "id": "8b354eb4",
   "metadata": {},
   "outputs": [
    {
     "name": "stderr",
     "output_type": "stream",
     "text": [
      "<ipython-input-56-da48ab1e3c05>:7: DeprecationWarning: Call to deprecated `most_similar` (Method will be removed in 4.0.0, use self.wv.most_similar() instead).\n",
      "  for word, _ in model_wc.most_similar(woi):\n",
      "<ipython-input-56-da48ab1e3c05>:14: DeprecationWarning: Call to deprecated `__getitem__` (Method will be removed in 4.0.0, use self.wv.__getitem__() instead).\n",
      "  vectors.append(model_wc[word])\n",
      "Exception ignored on calling ctypes callback function: <function _ThreadpoolInfo._find_modules_with_dl_iterate_phdr.<locals>.match_module_callback at 0x7f5ebd89c5e0>\n",
      "Traceback (most recent call last):\n",
      "  File \"/opt/conda/lib/python3.8/site-packages/threadpoolctl.py\", line 400, in match_module_callback\n",
      "    self._make_module_from_path(filepath)\n",
      "  File \"/opt/conda/lib/python3.8/site-packages/threadpoolctl.py\", line 515, in _make_module_from_path\n",
      "    module = module_class(filepath, prefix, user_api, internal_api)\n",
      "  File \"/opt/conda/lib/python3.8/site-packages/threadpoolctl.py\", line 606, in __init__\n",
      "    self.version = self.get_version()\n",
      "  File \"/opt/conda/lib/python3.8/site-packages/threadpoolctl.py\", line 646, in get_version\n",
      "    config = get_config().split()\n",
      "AttributeError: 'NoneType' object has no attribute 'split'\n",
      "<ipython-input-56-da48ab1e3c05>:27: DeprecationWarning: Call to deprecated `similarity` (Method will be removed in 4.0.0, use self.wv.similarity() instead).\n",
      "  similarity = min(max(0, model_wc.similarity(target_word, woi)), 1.0)\n",
      "<ipython-input-56-da48ab1e3c05>:38: MatplotlibDeprecationWarning: The 's' parameter of annotate() has been renamed 'text' since Matplotlib 3.3; support for the old name will be dropped two minor releases later.\n",
      "  plt.annotate(s=label, xy=(x, y), color=color)\n"
     ]
    },
    {
     "data": {
      "text/plain": [
       "Text(0.5, 1.0, \"Word similarity (T-SNE) using vectors from 16 words\\nColoured by similarity to 'dor'\")"
      ]
     },
     "execution_count": 56,
     "metadata": {},
     "output_type": "execute_result"
    },
    {
     "data": {
      "image/png": "[encoded data removed]",
      "text/plain": [
       "<Figure size 864x576 with 1 Axes>"
      ]
     },
     "metadata": {
      "needs_background": "light"
     },
     "output_type": "display_data"
    }
   ],
   "source": [
    "from sklearn.manifold import TSNE\n",
    "\n",
    "raw_words_of_interest = [x for x in model_wc.wv.vocab]\n",
    "\n",
    "words_of_interest = []\n",
    "for woi in raw_words_of_interest:\n",
    "    for word, _ in model_wc.most_similar(woi):\n",
    "        words_of_interest.append(word)\n",
    "\n",
    "words_of_interest = list(set(words_of_interest))\n",
    "\n",
    "vectors = []\n",
    "for word in set(words_of_interest):\n",
    "    vectors.append(model_wc[word])\n",
    "    \n",
    "vectors = np.vstack(vectors) # turn vectors into a 2D array <words x 300dim>\n",
    "\n",
    "model = TSNE(n_components=2, perplexity=10, random_state=0)\n",
    "X_tsne = model.fit_transform(vectors)\n",
    "df_after_tsne = pd.DataFrame.from_records(X_tsne, columns=['x', 'y'])\n",
    "df_after_tsne['labels'] = words_of_interest\n",
    "\n",
    "# calculate similarity from a target word to all words, to use as our colour\n",
    "target_word = \"dor\"\n",
    "similarities = []\n",
    "for woi in words_of_interest:\n",
    "    similarity = min(max(0, model_wc.similarity(target_word, woi)), 1.0)\n",
    "    similarities.append(similarity)\n",
    "\n",
    "# plot the T-SNE layout for words, darker words means more similar to our target\n",
    "plt.figure(figsize=(12,8))\n",
    "plt.xlim((min(X_tsne[:,0]), max(X_tsne[:,0])))\n",
    "plt.ylim((min(X_tsne[:,1]), max(X_tsne[:,1])))\n",
    "for idx in range(X_tsne.shape[0]):\n",
    "    x, y = X_tsne[idx]\n",
    "    label = words_of_interest[idx]\n",
    "    color=str(min(0.6, 1.0-similarities[idx])) # convert to string \"0.0\"..\"1.0\" as greyscale for mpl\n",
    "    plt.annotate(s=label, xy=(x, y), color=color)\n",
    "    #plt.annotate(s=label, xy=(x, y), weight=int(similarities[idx]*1000)) # use weight\n",
    "plt.tight_layout()\n",
    "plt.title(\"Word similarity (T-SNE) using vectors from {} words\\nColoured by similarity to '{}'\".format(len(words_of_interest), target_word))"
   ]
  },
  {
   "cell_type": "code",
   "execution_count": null,
   "id": "32e79ec3",
   "metadata": {},
   "outputs": [],
   "source": []
  }
 ],
 "metadata": {
  "kernelspec": {
   "display_name": "Python 3",
   "language": "python",
   "name": "python3"
  },
  "language_info": {
   "codemirror_mode": {
    "name": "ipython",
    "version": 3
   },
   "file_extension": ".py",
   "mimetype": "text/x-python",
   "name": "python",
   "nbconvert_exporter": "python",
   "pygments_lexer": "ipython3",
   "version": "3.8.8"
  }
 },
 "nbformat": 4,
 "nbformat_minor": 5
}
